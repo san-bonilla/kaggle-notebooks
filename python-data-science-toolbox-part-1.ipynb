{
 "cells": [
  {
   "cell_type": "code",
   "execution_count": 1,
   "id": "825dc454",
   "metadata": {
    "_cell_guid": "b1076dfc-b9ad-4769-8c92-a6c4dae69d19",
    "_uuid": "8f2839f25d086af736a60e9eeb907d3b93b6e0e5",
    "execution": {
     "iopub.execute_input": "2023-01-24T04:07:25.040152Z",
     "iopub.status.busy": "2023-01-24T04:07:25.039676Z",
     "iopub.status.idle": "2023-01-24T04:07:25.058088Z",
     "shell.execute_reply": "2023-01-24T04:07:25.056869Z"
    },
    "papermill": {
     "duration": 0.027453,
     "end_time": "2023-01-24T04:07:25.060890",
     "exception": false,
     "start_time": "2023-01-24T04:07:25.033437",
     "status": "completed"
    },
    "tags": []
   },
   "outputs": [],
   "source": [
    "# This Python 3 environment comes with many helpful analytics libraries installed\n",
    "# It is defined by the kaggle/python Docker image: https://github.com/kaggle/docker-python\n",
    "# For example, here's several helpful packages to load\n",
    "\n",
    "import numpy as np # linear algebra\n",
    "import pandas as pd # data processing, CSV file I/O (e.g. pd.read_csv)\n",
    "\n",
    "# Input data files are available in the read-only \"../input/\" directory\n",
    "# For example, running this (by clicking run or pressing Shift+Enter) will list all files under the input directory\n",
    "\n",
    "import os\n",
    "for dirname, _, filenames in os.walk('/kaggle/input'):\n",
    "    for filename in filenames:\n",
    "        print(os.path.join(dirname, filename))\n",
    "\n",
    "# You can write up to 20GB to the current directory (/kaggle/working/) that gets preserved as output when you create a version using \"Save & Run All\" \n",
    "# You can also write temporary files to /kaggle/temp/, but they won't be saved outside of the current session"
   ]
  },
  {
   "cell_type": "markdown",
   "id": "d234d0f0",
   "metadata": {
    "papermill": {
     "duration": 0.001715,
     "end_time": "2023-01-24T04:07:25.064965",
     "exception": false,
     "start_time": "2023-01-24T04:07:25.063250",
     "status": "completed"
    },
    "tags": []
   },
   "source": [
    "# Defining python functions"
   ]
  },
  {
   "cell_type": "code",
   "execution_count": 2,
   "id": "13236688",
   "metadata": {
    "execution": {
     "iopub.execute_input": "2023-01-24T04:07:25.070394Z",
     "iopub.status.busy": "2023-01-24T04:07:25.070023Z",
     "iopub.status.idle": "2023-01-24T04:07:25.076712Z",
     "shell.execute_reply": "2023-01-24T04:07:25.075493Z"
    },
    "papermill": {
     "duration": 0.013127,
     "end_time": "2023-01-24T04:07:25.079828",
     "exception": false,
     "start_time": "2023-01-24T04:07:25.066701",
     "status": "completed"
    },
    "tags": []
   },
   "outputs": [
    {
     "name": "stdout",
     "output_type": "stream",
     "text": [
      "16\n"
     ]
    }
   ],
   "source": [
    "# function header\n",
    "def square(value):\n",
    "    \"\"\"Docstrings describe what the function does\n",
    "    Returns the square of a value\n",
    "    \"\"\"\n",
    "    new_value = value**2\n",
    "    print(new_value)\n",
    "square(4)\n",
    "    "
   ]
  },
  {
   "cell_type": "code",
   "execution_count": null,
   "id": "0ae8811c",
   "metadata": {
    "papermill": {
     "duration": 0.001681,
     "end_time": "2023-01-24T04:07:25.083647",
     "exception": false,
     "start_time": "2023-01-24T04:07:25.081966",
     "status": "completed"
    },
    "tags": []
   },
   "outputs": [],
   "source": []
  }
 ],
 "metadata": {
  "kernelspec": {
   "display_name": "Python 3",
   "language": "python",
   "name": "python3"
  },
  "language_info": {
   "codemirror_mode": {
    "name": "ipython",
    "version": 3
   },
   "file_extension": ".py",
   "mimetype": "text/x-python",
   "name": "python",
   "nbconvert_exporter": "python",
   "pygments_lexer": "ipython3",
   "version": "3.7.12"
  },
  "papermill": {
   "default_parameters": {},
   "duration": 10.214783,
   "end_time": "2023-01-24T04:07:25.807322",
   "environment_variables": {},
   "exception": null,
   "input_path": "__notebook__.ipynb",
   "output_path": "__notebook__.ipynb",
   "parameters": {},
   "start_time": "2023-01-24T04:07:15.592539",
   "version": "2.3.4"
  }
 },
 "nbformat": 4,
 "nbformat_minor": 5
}
