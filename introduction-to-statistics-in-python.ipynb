{
 "cells": [
  {
   "cell_type": "code",
   "execution_count": 1,
   "id": "248f9232",
   "metadata": {
    "_cell_guid": "b1076dfc-b9ad-4769-8c92-a6c4dae69d19",
    "_uuid": "8f2839f25d086af736a60e9eeb907d3b93b6e0e5",
    "execution": {
     "iopub.execute_input": "2022-10-27T20:41:38.009263Z",
     "iopub.status.busy": "2022-10-27T20:41:38.008280Z",
     "iopub.status.idle": "2022-10-27T20:41:38.021329Z",
     "shell.execute_reply": "2022-10-27T20:41:38.020419Z"
    },
    "papermill": {
     "duration": 0.024396,
     "end_time": "2022-10-27T20:41:38.024912",
     "exception": false,
     "start_time": "2022-10-27T20:41:38.000516",
     "status": "completed"
    },
    "tags": []
   },
   "outputs": [],
   "source": [
    "# This Python 3 environment comes with many helpful analytics libraries installed\n",
    "# It is defined by the kaggle/python Docker image: https://github.com/kaggle/docker-python\n",
    "# For example, here's several helpful packages to load\n",
    "\n",
    "import numpy as np # linear algebra\n",
    "import pandas as pd # data processing, CSV file I/O (e.g. pd.read_csv)\n",
    "\n",
    "# Input data files are available in the read-only \"../input/\" directory\n",
    "# For example, running this (by clicking run or pressing Shift+Enter) will list all files under the input directory\n",
    "\n",
    "import os\n",
    "for dirname, _, filenames in os.walk('/kaggle/input'):\n",
    "    for filename in filenames:\n",
    "        print(os.path.join(dirname, filename))\n",
    "\n",
    "# You can write up to 20GB to the current directory (/kaggle/working/) that gets preserved as output when you create a version using \"Save & Run All\" \n",
    "# You can also write temporary files to /kaggle/temp/, but they won't be saved outside of the current session"
   ]
  },
  {
   "cell_type": "markdown",
   "id": "a08f03be",
   "metadata": {
    "papermill": {
     "duration": 0.003786,
     "end_time": "2022-10-27T20:41:38.033819",
     "exception": false,
     "start_time": "2022-10-27T20:41:38.030033",
     "status": "completed"
    },
    "tags": []
   },
   "source": [
    "# Statistics\n",
    "Practice and study of collecting and analyzing data  \n",
    "Summary statistic: fact about or summary of some data  \n",
    "**Statistics can't answer every question**  \n",
    "### Descriptive statistics\n",
    "Describe the data at hand\n",
    "### Inferential statistics\n",
    "Use sample data to make inferences about a larger population\n",
    "## Types of data\n",
    "### Numeric (quantitative)\n",
    "Continuous (measured)  \n",
    "Discrete (counted)\n",
    "### Categorical (qualitative)\n",
    "Nominal (unordered)  \n",
    "Ordinal (ordered)"
   ]
  },
  {
   "cell_type": "markdown",
   "id": "1b21c1c7",
   "metadata": {
    "papermill": {
     "duration": 0.004334,
     "end_time": "2022-10-27T20:41:38.043222",
     "exception": false,
     "start_time": "2022-10-27T20:41:38.038888",
     "status": "completed"
    },
    "tags": []
   },
   "source": [
    "## Measures of center\n",
    "* Mean np.mean()\n",
    "Most affected by outliers\n",
    "* Median np.median()\n",
    "* Mode np.mode()\n"
   ]
  },
  {
   "attachments": {
    "c15b4985-6720-402f-bc88-c83f2667e5ea.png": {
     "image/png": "[encoded data removed]"
    }
   },
   "cell_type": "markdown",
   "id": "048db61e",
   "metadata": {
    "papermill": {
     "duration": 0.003426,
     "end_time": "2022-10-27T20:41:38.050039",
     "exception": false,
     "start_time": "2022-10-27T20:41:38.046613",
     "status": "completed"
    },
    "tags": []
   },
   "source": [
    "## Measures of spread\n",
    "* Variance np.var(array, ddof=1)  \n",
    "ddof is for sample, no ddof is for population\n",
    "* Standard deviation np.std(array, ddof=1)  \n",
    "* Mean absolute deviation np.abs()\n",
    "### Quantiles\n",
    "np.quantile(array, float or list of floats)  \n",
    "np.linspace(start, stop, num) to split into a specific number of intervals  \n",
    "### Interquartile range\n",
    "from scipy.stats import iqr  \n",
    "iqr(array)  \n",
    "### Outliers\n",
    "1. Calculate iqr\n",
    "2. Set lower and upper threshold \n",
    "![image.png](attachment:c15b4985-6720-402f-bc88-c83f2667e5ea.png)\n",
    "3. Subset the dataframe to find entries below or above the threshold\n",
    "### Dataframe.describe() to find most of the summary statistics"
   ]
  },
  {
   "attachments": {
    "01708561-2e44-47a9-81e5-ba4c777ba18a.png": {
     "image/png": "[encoded data removed]"
    }
   },
   "cell_type": "markdown",
   "id": "2a13d434",
   "metadata": {
    "papermill": {
     "duration": 0.002853,
     "end_time": "2022-10-27T20:41:38.056064",
     "exception": false,
     "start_time": "2022-10-27T20:41:38.053211",
     "status": "completed"
    },
    "tags": []
   },
   "source": [
    "# Probability\n",
    "![imagen.png](attachment:01708561-2e44-47a9-81e5-ba4c777ba18a.png)\n",
    "### df.sample(int)\n",
    "Gets a random row from a dataframe.  \n",
    "### np.random.seed(10)\n",
    "Generates the same random value each time.\n",
    "## Sample with replacement\n",
    "df.sample(int, replace=True)\n",
    "## Events\n",
    "* Independent: when 2 events don't affect the probability of the other one happening.\n",
    "* Dependent: when the probability of one event is affected by another."
   ]
  },
  {
   "cell_type": "markdown",
   "id": "54bd1e6b",
   "metadata": {
    "papermill": {
     "duration": 0.002796,
     "end_time": "2022-10-27T20:41:38.061978",
     "exception": false,
     "start_time": "2022-10-27T20:41:38.059182",
     "status": "completed"
    },
    "tags": []
   },
   "source": [
    "# Discrete distributions\n",
    "## Probability distribution\n",
    "Describes the probability of each possible outcome in a scenario  \n",
    "**Expected value:** mean of a probability distribution\n",
    "## Law of large numbers\n",
    "As the size of the sample increases the sample mean will approach the theoretical mean."
   ]
  },
  {
   "cell_type": "markdown",
   "id": "243b054a",
   "metadata": {
    "papermill": {
     "duration": 0.002836,
     "end_time": "2022-10-27T20:41:38.067888",
     "exception": false,
     "start_time": "2022-10-27T20:41:38.065052",
     "status": "completed"
    },
    "tags": []
   },
   "source": [
    "# Continuous distributions\n",
    "**Probability to get <7 in the distribution:**  \n",
    "from scipy.stats import uniform  \n",
    "uniform.cdf(7,0,12)\n",
    "## Generate random numbers according to uniform distribution\n",
    "uniform.rvs(0,5, size=10)"
   ]
  },
  {
   "cell_type": "markdown",
   "id": "d8400cec",
   "metadata": {
    "papermill": {
     "duration": 0.003354,
     "end_time": "2022-10-27T20:41:38.074353",
     "exception": false,
     "start_time": "2022-10-27T20:41:38.070999",
     "status": "completed"
    },
    "tags": []
   },
   "source": [
    "# Binomial distribution\n",
    "Distribution of a binary outcome, number of successes in a sequence of **independent** trials      \n",
    "**Simulate trials**  \n",
    "from scipy.stats import binom  \n",
    "binom.rvs(# of coins, probability of heads/success, size = # of trials)  \n",
    "**Probability of 7 successes**  \n",
    "binom.pmf(7,10,0.5) -> binom.pmf(# heads, # trials, prob success)  \n",
    "**Probability of 7 or less successes**  \n",
    "binom.cdf(7,10,0.5)\n",
    "## Expected value = n * p"
   ]
  },
  {
   "cell_type": "code",
   "execution_count": null,
   "id": "ae6e1027",
   "metadata": {
    "papermill": {
     "duration": 0.003017,
     "end_time": "2022-10-27T20:41:38.082996",
     "exception": false,
     "start_time": "2022-10-27T20:41:38.079979",
     "status": "completed"
    },
    "tags": []
   },
   "outputs": [],
   "source": []
  }
 ],
 "metadata": {
  "kernelspec": {
   "display_name": "Python 3",
   "language": "python",
   "name": "python3"
  },
  "language_info": {
   "codemirror_mode": {
    "name": "ipython",
    "version": 3
   },
   "file_extension": ".py",
   "mimetype": "text/x-python",
   "name": "python",
   "nbconvert_exporter": "python",
   "pygments_lexer": "ipython3",
   "version": "3.7.12"
  },
  "papermill": {
   "default_parameters": {},
   "duration": 10.010825,
   "end_time": "2022-10-27T20:41:38.809976",
   "environment_variables": {},
   "exception": null,
   "input_path": "__notebook__.ipynb",
   "output_path": "__notebook__.ipynb",
   "parameters": {},
   "start_time": "2022-10-27T20:41:28.799151",
   "version": "2.3.4"
  }
 },
 "nbformat": 4,
 "nbformat_minor": 5
}
