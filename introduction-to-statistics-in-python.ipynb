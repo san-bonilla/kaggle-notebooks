{
 "cells": [
  {
   "cell_type": "code",
   "execution_count": 1,
   "id": "85b4c626",
   "metadata": {
    "_cell_guid": "b1076dfc-b9ad-4769-8c92-a6c4dae69d19",
    "_uuid": "8f2839f25d086af736a60e9eeb907d3b93b6e0e5",
    "execution": {
     "iopub.execute_input": "2022-10-26T20:19:56.372557Z",
     "iopub.status.busy": "2022-10-26T20:19:56.371798Z",
     "iopub.status.idle": "2022-10-26T20:19:56.383336Z",
     "shell.execute_reply": "2022-10-26T20:19:56.382468Z"
    },
    "papermill": {
     "duration": 0.019414,
     "end_time": "2022-10-26T20:19:56.385896",
     "exception": false,
     "start_time": "2022-10-26T20:19:56.366482",
     "status": "completed"
    },
    "tags": []
   },
   "outputs": [],
   "source": [
    "# This Python 3 environment comes with many helpful analytics libraries installed\n",
    "# It is defined by the kaggle/python Docker image: https://github.com/kaggle/docker-python\n",
    "# For example, here's several helpful packages to load\n",
    "\n",
    "import numpy as np # linear algebra\n",
    "import pandas as pd # data processing, CSV file I/O (e.g. pd.read_csv)\n",
    "\n",
    "# Input data files are available in the read-only \"../input/\" directory\n",
    "# For example, running this (by clicking run or pressing Shift+Enter) will list all files under the input directory\n",
    "\n",
    "import os\n",
    "for dirname, _, filenames in os.walk('/kaggle/input'):\n",
    "    for filename in filenames:\n",
    "        print(os.path.join(dirname, filename))\n",
    "\n",
    "# You can write up to 20GB to the current directory (/kaggle/working/) that gets preserved as output when you create a version using \"Save & Run All\" \n",
    "# You can also write temporary files to /kaggle/temp/, but they won't be saved outside of the current session"
   ]
  },
  {
   "cell_type": "markdown",
   "id": "ad974b15",
   "metadata": {
    "papermill": {
     "duration": 0.002085,
     "end_time": "2022-10-26T20:19:56.390594",
     "exception": false,
     "start_time": "2022-10-26T20:19:56.388509",
     "status": "completed"
    },
    "tags": []
   },
   "source": [
    "# Statistics\n",
    "Practice and study of collecting and analyzing data  \n",
    "Summary statistic: fact about or summary of some data  \n",
    "**Statistics can't answer every question**  \n",
    "### Descriptive statistics\n",
    "Describe the data at hand\n",
    "### Inferential statistics\n",
    "Use sample data to make inferences about a larger population\n",
    "## Types of data\n",
    "### Numeric (quantitative)\n",
    "Continuous (measured)  \n",
    "Discrete (counted)\n",
    "### Categorical (qualitative)\n",
    "Nominal (unordered)  \n",
    "Ordinal (ordered)"
   ]
  },
  {
   "cell_type": "markdown",
   "id": "660b042a",
   "metadata": {
    "papermill": {
     "duration": 0.00196,
     "end_time": "2022-10-26T20:19:56.394801",
     "exception": false,
     "start_time": "2022-10-26T20:19:56.392841",
     "status": "completed"
    },
    "tags": []
   },
   "source": [
    "## Measures of center\n",
    "* Mean np.mean()\n",
    "Most affected by outliers\n",
    "* Median np.median()\n",
    "* Mode np.mode()\n"
   ]
  },
  {
   "attachments": {
    "c15b4985-6720-402f-bc88-c83f2667e5ea.png": {
     "image/png": "[encoded data removed]"
    }
   },
   "cell_type": "markdown",
   "id": "a1f089c5",
   "metadata": {
    "papermill": {
     "duration": 0.001918,
     "end_time": "2022-10-26T20:19:56.398939",
     "exception": false,
     "start_time": "2022-10-26T20:19:56.397021",
     "status": "completed"
    },
    "tags": []
   },
   "source": [
    "## Measures of spread\n",
    "* Variance np.var(array, ddof=1)  \n",
    "ddof is for sample, no ddof is for population\n",
    "* Standard deviation np.std(array, ddof=1)  \n",
    "* Mean absolute deviation np.abs()\n",
    "### Quantiles\n",
    "np.quantile(array, float or list of floats)  \n",
    "np.linspace(start, stop, num) to split into a specific number of intervals  \n",
    "### Interquartile range\n",
    "from scipy.stats import iqr  \n",
    "iqr(array)  \n",
    "### Outliers\n",
    "1. Calculate iqr\n",
    "2. Set lower and upper threshold \n",
    "![image.png](attachment:c15b4985-6720-402f-bc88-c83f2667e5ea.png)\n",
    "3. Subset the dataframe to find entries below or above the threshold\n",
    "### Dataframe.describe() to find most of the summary statistics"
   ]
  },
  {
   "cell_type": "code",
   "execution_count": null,
   "id": "59638ae7",
   "metadata": {
    "papermill": {
     "duration": 0.001916,
     "end_time": "2022-10-26T20:19:56.403052",
     "exception": false,
     "start_time": "2022-10-26T20:19:56.401136",
     "status": "completed"
    },
    "tags": []
   },
   "outputs": [],
   "source": []
  }
 ],
 "metadata": {
  "kernelspec": {
   "display_name": "Python 3",
   "language": "python",
   "name": "python3"
  },
  "language_info": {
   "codemirror_mode": {
    "name": "ipython",
    "version": 3
   },
   "file_extension": ".py",
   "mimetype": "text/x-python",
   "name": "python",
   "nbconvert_exporter": "python",
   "pygments_lexer": "ipython3",
   "version": "3.7.12"
  },
  "papermill": {
   "default_parameters": {},
   "duration": 9.425496,
   "end_time": "2022-10-26T20:19:57.127021",
   "environment_variables": {},
   "exception": null,
   "input_path": "__notebook__.ipynb",
   "output_path": "__notebook__.ipynb",
   "parameters": {},
   "start_time": "2022-10-26T20:19:47.701525",
   "version": "2.3.4"
  }
 },
 "nbformat": 4,
 "nbformat_minor": 5
}
