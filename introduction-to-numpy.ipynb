{
 "cells": [
  {
   "cell_type": "code",
   "execution_count": 1,
   "id": "e4a3d9b9",
   "metadata": {
    "_cell_guid": "b1076dfc-b9ad-4769-8c92-a6c4dae69d19",
    "_uuid": "8f2839f25d086af736a60e9eeb907d3b93b6e0e5",
    "execution": {
     "iopub.execute_input": "2022-10-25T23:25:31.226190Z",
     "iopub.status.busy": "2022-10-25T23:25:31.225449Z",
     "iopub.status.idle": "2022-10-25T23:25:31.240681Z",
     "shell.execute_reply": "2022-10-25T23:25:31.239422Z"
    },
    "papermill": {
     "duration": 0.029732,
     "end_time": "2022-10-25T23:25:31.243402",
     "exception": false,
     "start_time": "2022-10-25T23:25:31.213670",
     "status": "completed"
    },
    "tags": []
   },
   "outputs": [],
   "source": [
    "# This Python 3 environment comes with many helpful analytics libraries installed\n",
    "# It is defined by the kaggle/python Docker image: https://github.com/kaggle/docker-python\n",
    "# For example, here's several helpful packages to load\n",
    "\n",
    "import numpy as np # linear algebra\n",
    "import pandas as pd # data processing, CSV file I/O (e.g. pd.read_csv)\n",
    "\n",
    "# Input data files are available in the read-only \"../input/\" directory\n",
    "# For example, running this (by clicking run or pressing Shift+Enter) will list all files under the input directory\n",
    "\n",
    "import os\n",
    "for dirname, _, filenames in os.walk('/kaggle/input'):\n",
    "    for filename in filenames:\n",
    "        print(os.path.join(dirname, filename))\n",
    "\n",
    "# You can write up to 20GB to the current directory (/kaggle/working/) that gets preserved as output when you create a version using \"Save & Run All\" \n",
    "# You can also write temporary files to /kaggle/temp/, but they won't be saved outside of the current session"
   ]
  },
  {
   "cell_type": "markdown",
   "id": "905684c6",
   "metadata": {
    "papermill": {
     "duration": 0.004244,
     "end_time": "2022-10-25T23:25:31.252752",
     "exception": false,
     "start_time": "2022-10-25T23:25:31.248508",
     "status": "completed"
    },
    "tags": []
   },
   "source": [
    "### Create NumPy array\n",
    "Pass a python list to np.array(list)  \n",
    "np.zeros((5,3)) pass a tuple of integers to shape the array\n",
    "* Same with np.random.random((2,4))  \n",
    "\n",
    "np.arange(-3,4)\n",
    "## Numpy Arrays\n",
    "* Same data types"
   ]
  },
  {
   "cell_type": "code",
   "execution_count": 2,
   "id": "a65fc364",
   "metadata": {
    "execution": {
     "iopub.execute_input": "2022-10-25T23:25:31.263713Z",
     "iopub.status.busy": "2022-10-25T23:25:31.263225Z",
     "iopub.status.idle": "2022-10-25T23:25:31.274154Z",
     "shell.execute_reply": "2022-10-25T23:25:31.272494Z"
    },
    "papermill": {
     "duration": 0.019662,
     "end_time": "2022-10-25T23:25:31.276880",
     "exception": false,
     "start_time": "2022-10-25T23:25:31.257218",
     "status": "completed"
    },
    "tags": []
   },
   "outputs": [
    {
     "name": "stdout",
     "output_type": "stream",
     "text": [
      "[[[ 1  2]\n",
      "  [ 3  4]]\n",
      "\n",
      " [[ 5  6]\n",
      "  [ 7  8]]\n",
      "\n",
      " [[ 9 10]\n",
      "  [11 12]]]\n"
     ]
    }
   ],
   "source": [
    "ar1 = np.array([[1,2], [3,4]])\n",
    "ar2 = np.array([[5,6], [7,8]])\n",
    "ar3 = np.array([[9,10], [11,12]])\n",
    "threeDimArr = np.array([ar1,ar2,ar3])\n",
    "print(threeDimArr)"
   ]
  },
  {
   "cell_type": "markdown",
   "id": "371860c8",
   "metadata": {
    "papermill": {
     "duration": 0.004209,
     "end_time": "2022-10-25T23:25:31.285787",
     "exception": false,
     "start_time": "2022-10-25T23:25:31.281578",
     "status": "completed"
    },
    "tags": []
   },
   "source": [
    "Vector - array of 1 dimension  \n",
    "Matrix = 2 dimensions  \n",
    "Tenson = 3+ dimensions  \n",
    "Rows = 1st dimension  \n",
    "Columns = 2nd dimension  \n",
    "### Array attributes & methods\n",
    "* arr.shape()\n",
    "* arr.reshape()\n",
    "* arr.flatten()"
   ]
  },
  {
   "cell_type": "markdown",
   "id": "042f5c67",
   "metadata": {
    "papermill": {
     "duration": 0.004322,
     "end_time": "2022-10-25T23:25:31.294654",
     "exception": false,
     "start_time": "2022-10-25T23:25:31.290332",
     "status": "completed"
    },
    "tags": []
   },
   "source": [
    "## Numpy Datatypes  \n",
    "np.int64  \n",
    "np.int32  \n",
    "np.float64  \n",
    "np.float32  \n",
    "### Array data type\n",
    "arr.dtype"
   ]
  },
  {
   "cell_type": "markdown",
   "id": "834cbb0f",
   "metadata": {
    "papermill": {
     "duration": 0.004103,
     "end_time": "2022-10-25T23:25:31.303241",
     "exception": false,
     "start_time": "2022-10-25T23:25:31.299138",
     "status": "completed"
    },
    "tags": []
   },
   "source": [
    "## Indexing and slicing arrays  \n",
    "### Sorting\n",
    "np.sort(array) by rows or columns"
   ]
  },
  {
   "cell_type": "markdown",
   "id": "247ac25e",
   "metadata": {
    "papermill": {
     "duration": 0.004094,
     "end_time": "2022-10-25T23:25:31.311843",
     "exception": false,
     "start_time": "2022-10-25T23:25:31.307749",
     "status": "completed"
    },
    "tags": []
   },
   "source": [
    "## Filtering  \n",
    "### Masks and fancy indexing\n",
    "Index the array using the mask to filter for specific values\n",
    "### np.where()\n",
    "Returns array of **indices** of elements that meet the condition  \n",
    "Indices can be used to update an array"
   ]
  },
  {
   "cell_type": "markdown",
   "id": "e43db3c5",
   "metadata": {
    "papermill": {
     "duration": 0.004127,
     "end_time": "2022-10-25T23:25:31.320784",
     "exception": false,
     "start_time": "2022-10-25T23:25:31.316657",
     "status": "completed"
    },
    "tags": []
   },
   "source": [
    "## Adding and removing data\n",
    "### np.concatenate((tuple))\n",
    "* axis argument for columns or rows  \n",
    "* Needs to have compatible shapes on the axis where you're trying to concatenate\n",
    "* Need dimension compatibility  \n",
    "use arr.reshape()\n",
    "* Can't add new dimensions  \n",
    "\n",
    "### np.delete(array, slice or array of indices, axis)\n",
    "Outputs a flattened array when axis is not specified"
   ]
  },
  {
   "cell_type": "markdown",
   "id": "c6926b94",
   "metadata": {
    "papermill": {
     "duration": 0.00409,
     "end_time": "2022-10-25T23:25:31.329323",
     "exception": false,
     "start_time": "2022-10-25T23:25:31.325233",
     "status": "completed"
    },
    "tags": []
   },
   "source": [
    "## Summarizing data\n",
    "* .sum(axis)\n",
    "* .min(axis) or .max(axis)\n",
    "* .mean()  \n",
    "Optional keepdims=Boolean to keep the dimensions  \n",
    "* .cumsum()"
   ]
  },
  {
   "cell_type": "markdown",
   "id": "e1fdcc0c",
   "metadata": {
    "papermill": {
     "duration": 0.004099,
     "end_time": "2022-10-25T23:25:31.337832",
     "exception": false,
     "start_time": "2022-10-25T23:25:31.333733",
     "status": "completed"
    },
    "tags": []
   },
   "source": [
    "## Vectorized operations\n",
    "Outsource to C  \n",
    "array + scalar\n",
    "### Boolean masks\n",
    "An array is a scalar (vectorized syntax)\n",
    "### np.vectorize(python function)\n",
    "Vectorize a python function into a numpy function  \n",
    "**Example**  \n",
    "vectorized_upper = np.vectorize(**str**.upper)"
   ]
  },
  {
   "cell_type": "markdown",
   "id": "d327cca5",
   "metadata": {
    "papermill": {
     "duration": 0.004279,
     "end_time": "2022-10-25T23:25:31.346570",
     "exception": false,
     "start_time": "2022-10-25T23:25:31.342291",
     "status": "completed"
    },
    "tags": []
   },
   "source": [
    "## Broadcasting\n",
    "Math operations between arrays of different shapes\n",
    "### Compatibility rules\n",
    "1. Compare array dimensions from right to left  \n",
    "Compatible when one has a length of 1 or they are of equal lengths\n",
    "1. All dimension sets must be compatible\n",
    "1. Two arrays don't need the same number of dimensions to be broadcastable  \n",
    "**You can reshape the arrays to make the trailing dimension compatible**"
   ]
  },
  {
   "cell_type": "markdown",
   "id": "8e29e82e",
   "metadata": {
    "papermill": {
     "duration": 0.00635,
     "end_time": "2022-10-25T23:25:31.359217",
     "exception": false,
     "start_time": "2022-10-25T23:25:31.352867",
     "status": "completed"
    },
    "tags": []
   },
   "source": [
    "## Saving and loading arrays\n",
    "### Loading\n",
    "with open(\"logo.npy\", \"rb\") as f:  \n",
    "&nbsp;&nbsp; logo_rgb_array = np.load(f)  \n",
    "plt.imshow(logo_rgb_array)  \n",
    "plt.show()\n",
    "### Saving\n",
    "with open(\"new_logo.npy\", \"wb\") as f:  \n",
    "&nbsp;&nbsp; np.save(f,new_logo_array)"
   ]
  },
  {
   "cell_type": "markdown",
   "id": "bdf44c8f",
   "metadata": {
    "papermill": {
     "duration": 0.008057,
     "end_time": "2022-10-25T23:25:31.374345",
     "exception": false,
     "start_time": "2022-10-25T23:25:31.366288",
     "status": "completed"
    },
    "tags": []
   },
   "source": [
    "## Array acrobatics\n",
    "### Data augmentation\n",
    "* np.flip(array, *axis=(0,1)*) reverses the order of array elements on specified axises\n",
    "* np.transpose(array, *axes=(1,0,2)*) flips axis order keeping element order in each axis  \n",
    "axes argument defines order 0=rows, 1=columns, 2=colors."
   ]
  },
  {
   "cell_type": "markdown",
   "id": "11572eca",
   "metadata": {
    "papermill": {
     "duration": 0.005681,
     "end_time": "2022-10-25T23:25:31.388246",
     "exception": false,
     "start_time": "2022-10-25T23:25:31.382565",
     "status": "completed"
    },
    "tags": []
   },
   "source": [
    "## Stacking and splitting\n",
    "\n"
   ]
  },
  {
   "cell_type": "markdown",
   "id": "3f74705e",
   "metadata": {
    "papermill": {
     "duration": 0.004456,
     "end_time": "2022-10-25T23:25:31.399985",
     "exception": false,
     "start_time": "2022-10-25T23:25:31.395529",
     "status": "completed"
    },
    "tags": []
   },
   "source": [
    "### Slicing dimensions"
   ]
  },
  {
   "cell_type": "code",
   "execution_count": 3,
   "id": "b5d26de2",
   "metadata": {
    "execution": {
     "iopub.execute_input": "2022-10-25T23:25:31.414220Z",
     "iopub.status.busy": "2022-10-25T23:25:31.413747Z",
     "iopub.status.idle": "2022-10-25T23:25:31.423012Z",
     "shell.execute_reply": "2022-10-25T23:25:31.421482Z"
    },
    "papermill": {
     "duration": 0.018475,
     "end_time": "2022-10-25T23:25:31.425423",
     "exception": false,
     "start_time": "2022-10-25T23:25:31.406948",
     "status": "completed"
    },
    "tags": []
   },
   "outputs": [
    {
     "name": "stdout",
     "output_type": "stream",
     "text": [
      "[[255 255 255]\n",
      " [255   0   0]\n",
      " [  0   0   0]]\n"
     ]
    }
   ],
   "source": [
    "import numpy as np\n",
    "rgb = np.array([[[255, 0, 0], [255, 255, 0], [255, 255, 255]], [[255, 0, 255], [0, 255, 0], [0, 255, 255]], [[0, 0, 0], [0, 255, 255], [0, 0, 255]]])\n",
    "red_array = rgb[:, :, 0]\n",
    "green_array = rgb[:, :, 1]\n",
    "blue_array = rgb[:, :, 2] \n",
    "# print(red_array)\n",
    "print(rgb[:,:,0])"
   ]
  },
  {
   "cell_type": "markdown",
   "id": "7ffda0fa",
   "metadata": {
    "papermill": {
     "duration": 0.004346,
     "end_time": "2022-10-25T23:25:31.434488",
     "exception": false,
     "start_time": "2022-10-25T23:25:31.430142",
     "status": "completed"
    },
    "tags": []
   },
   "source": [
    "### Splitting arrays\n",
    "np.split(*array to split, number of equally sized arrays desired after the split, axis to split along*) "
   ]
  },
  {
   "cell_type": "code",
   "execution_count": 4,
   "id": "26d9ea2b",
   "metadata": {
    "execution": {
     "iopub.execute_input": "2022-10-25T23:25:31.446261Z",
     "iopub.status.busy": "2022-10-25T23:25:31.445732Z",
     "iopub.status.idle": "2022-10-25T23:25:31.455798Z",
     "shell.execute_reply": "2022-10-25T23:25:31.453002Z"
    },
    "papermill": {
     "duration": 0.019445,
     "end_time": "2022-10-25T23:25:31.458717",
     "exception": false,
     "start_time": "2022-10-25T23:25:31.439272",
     "status": "completed"
    },
    "tags": []
   },
   "outputs": [
    {
     "name": "stdout",
     "output_type": "stream",
     "text": [
      "[[[255]\n",
      "  [255]\n",
      "  [255]]\n",
      "\n",
      " [[255]\n",
      "  [  0]\n",
      "  [  0]]\n",
      "\n",
      " [[  0]\n",
      "  [  0]\n",
      "  [  0]]]\n",
      "(3, 3, 1)\n",
      "[[255 255 255]\n",
      " [255   0   0]\n",
      " [  0   0   0]]\n"
     ]
    }
   ],
   "source": [
    "red_array, green_array, blue_array = np.split(rgb, 3, axis=2)\n",
    "print(red_array)\n",
    "print(red_array.shape)\n",
    "print(red_array.reshape(3,3))"
   ]
  },
  {
   "cell_type": "markdown",
   "id": "1595bd01",
   "metadata": {
    "papermill": {
     "duration": 0.004702,
     "end_time": "2022-10-25T23:25:31.468569",
     "exception": false,
     "start_time": "2022-10-25T23:25:31.463867",
     "status": "completed"
    },
    "tags": []
   },
   "source": [
    "### Stacking arrays\n",
    "np.stack([list of arrays], *axis=2*  \n",
    "# Check that the shape of the new array and the sliced arrays match"
   ]
  },
  {
   "cell_type": "code",
   "execution_count": null,
   "id": "62126404",
   "metadata": {
    "papermill": {
     "duration": 0.004643,
     "end_time": "2022-10-25T23:25:31.478445",
     "exception": false,
     "start_time": "2022-10-25T23:25:31.473802",
     "status": "completed"
    },
    "tags": []
   },
   "outputs": [],
   "source": []
  }
 ],
 "metadata": {
  "kernelspec": {
   "display_name": "Python 3",
   "language": "python",
   "name": "python3"
  },
  "language_info": {
   "codemirror_mode": {
    "name": "ipython",
    "version": 3
   },
   "file_extension": ".py",
   "mimetype": "text/x-python",
   "name": "python",
   "nbconvert_exporter": "python",
   "pygments_lexer": "ipython3",
   "version": "3.7.12"
  },
  "papermill": {
   "default_parameters": {},
   "duration": 10.246043,
   "end_time": "2022-10-25T23:25:32.408924",
   "environment_variables": {},
   "exception": null,
   "input_path": "__notebook__.ipynb",
   "output_path": "__notebook__.ipynb",
   "parameters": {},
   "start_time": "2022-10-25T23:25:22.162881",
   "version": "2.3.4"
  }
 },
 "nbformat": 4,
 "nbformat_minor": 5
}
