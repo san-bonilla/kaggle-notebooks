{
 "cells": [
  {
   "cell_type": "code",
   "execution_count": 1,
   "id": "d9bc6449",
   "metadata": {
    "_cell_guid": "b1076dfc-b9ad-4769-8c92-a6c4dae69d19",
    "_uuid": "8f2839f25d086af736a60e9eeb907d3b93b6e0e5",
    "execution": {
     "iopub.execute_input": "2022-10-22T03:15:08.767493Z",
     "iopub.status.busy": "2022-10-22T03:15:08.766443Z",
     "iopub.status.idle": "2022-10-22T03:15:08.779162Z",
     "shell.execute_reply": "2022-10-22T03:15:08.777767Z"
    },
    "papermill": {
     "duration": 0.021769,
     "end_time": "2022-10-22T03:15:08.782624",
     "exception": false,
     "start_time": "2022-10-22T03:15:08.760855",
     "status": "completed"
    },
    "tags": []
   },
   "outputs": [],
   "source": [
    "# This Python 3 environment comes with many helpful analytics libraries installed\n",
    "# It is defined by the kaggle/python Docker image: https://github.com/kaggle/docker-python\n",
    "# For example, here's several helpful packages to load\n",
    "\n",
    "import numpy as np # linear algebra\n",
    "import pandas as pd # data processing, CSV file I/O (e.g. pd.read_csv)\n",
    "\n",
    "# Input data files are available in the read-only \"../input/\" directory\n",
    "# For example, running this (by clicking run or pressing Shift+Enter) will list all files under the input directory\n",
    "\n",
    "import os\n",
    "for dirname, _, filenames in os.walk('/kaggle/input'):\n",
    "    for filename in filenames:\n",
    "        print(os.path.join(dirname, filename))\n",
    "\n",
    "# You can write up to 20GB to the current directory (/kaggle/working/) that gets preserved as output when you create a version using \"Save & Run All\" \n",
    "# You can also write temporary files to /kaggle/temp/, but they won't be saved outside of the current session"
   ]
  },
  {
   "cell_type": "markdown",
   "id": "aaa094b5",
   "metadata": {
    "papermill": {
     "duration": 0.002075,
     "end_time": "2022-10-22T03:15:08.787465",
     "exception": false,
     "start_time": "2022-10-22T03:15:08.785390",
     "status": "completed"
    },
    "tags": []
   },
   "source": [
    "### Create NumPy array\n",
    "Pass a python list to np.array(list)  \n",
    "np.zeros((5,3)) pass a tuple of integers to shape the array\n",
    "* Same with np.random.random((2,4))  \n",
    "\n",
    "np.arange(-3,4)\n",
    "## Numpy Arrays\n",
    "* Same data types"
   ]
  },
  {
   "cell_type": "code",
   "execution_count": 2,
   "id": "8b6763d8",
   "metadata": {
    "execution": {
     "iopub.execute_input": "2022-10-22T03:15:08.794315Z",
     "iopub.status.busy": "2022-10-22T03:15:08.793881Z",
     "iopub.status.idle": "2022-10-22T03:15:08.803016Z",
     "shell.execute_reply": "2022-10-22T03:15:08.802056Z"
    },
    "papermill": {
     "duration": 0.016194,
     "end_time": "2022-10-22T03:15:08.805939",
     "exception": false,
     "start_time": "2022-10-22T03:15:08.789745",
     "status": "completed"
    },
    "tags": []
   },
   "outputs": [
    {
     "name": "stdout",
     "output_type": "stream",
     "text": [
      "[[[ 1  2]\n",
      "  [ 3  4]]\n",
      "\n",
      " [[ 5  6]\n",
      "  [ 7  8]]\n",
      "\n",
      " [[ 9 10]\n",
      "  [11 12]]]\n"
     ]
    }
   ],
   "source": [
    "ar1 = np.array([[1,2], [3,4]])\n",
    "ar2 = np.array([[5,6], [7,8]])\n",
    "ar3 = np.array([[9,10], [11,12]])\n",
    "threeDimArr = np.array([ar1,ar2,ar3])\n",
    "print(threeDimArr)"
   ]
  },
  {
   "cell_type": "markdown",
   "id": "cb7ed8f5",
   "metadata": {
    "papermill": {
     "duration": 0.002167,
     "end_time": "2022-10-22T03:15:08.810635",
     "exception": false,
     "start_time": "2022-10-22T03:15:08.808468",
     "status": "completed"
    },
    "tags": []
   },
   "source": [
    "Vector - array of 1 dimension  \n",
    "Matrix = 2 dimensions  \n",
    "Tenson = 3+ dimensions  \n",
    "Rows = 1st dimension  \n",
    "Columns = 2nd dimension  \n",
    "### Array attributes & methods\n",
    "* arr.shape()\n",
    "* arr.reshape()\n",
    "* arr.flatten()"
   ]
  },
  {
   "cell_type": "markdown",
   "id": "0fa8657f",
   "metadata": {
    "papermill": {
     "duration": 0.002125,
     "end_time": "2022-10-22T03:15:08.815082",
     "exception": false,
     "start_time": "2022-10-22T03:15:08.812957",
     "status": "completed"
    },
    "tags": []
   },
   "source": [
    "## Numpy Datatypes  \n",
    "np.int64  \n",
    "np.int32  \n",
    "np.float64  \n",
    "np.float32  \n",
    "### Array data type\n",
    "arr.dtype"
   ]
  },
  {
   "cell_type": "code",
   "execution_count": null,
   "id": "8dd08687",
   "metadata": {
    "papermill": {
     "duration": 0.002053,
     "end_time": "2022-10-22T03:15:08.819482",
     "exception": false,
     "start_time": "2022-10-22T03:15:08.817429",
     "status": "completed"
    },
    "tags": []
   },
   "outputs": [],
   "source": []
  }
 ],
 "metadata": {
  "kernelspec": {
   "display_name": "Python 3",
   "language": "python",
   "name": "python3"
  },
  "language_info": {
   "codemirror_mode": {
    "name": "ipython",
    "version": 3
   },
   "file_extension": ".py",
   "mimetype": "text/x-python",
   "name": "python",
   "nbconvert_exporter": "python",
   "pygments_lexer": "ipython3",
   "version": "3.7.12"
  },
  "papermill": {
   "default_parameters": {},
   "duration": 10.761303,
   "end_time": "2022-10-22T03:15:09.543208",
   "environment_variables": {},
   "exception": null,
   "input_path": "__notebook__.ipynb",
   "output_path": "__notebook__.ipynb",
   "parameters": {},
   "start_time": "2022-10-22T03:14:58.781905",
   "version": "2.3.4"
  }
 },
 "nbformat": 4,
 "nbformat_minor": 5
}
