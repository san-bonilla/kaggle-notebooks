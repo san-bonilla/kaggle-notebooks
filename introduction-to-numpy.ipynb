{
 "cells": [
  {
   "cell_type": "code",
   "execution_count": 1,
   "id": "2c0a7cec",
   "metadata": {
    "_cell_guid": "b1076dfc-b9ad-4769-8c92-a6c4dae69d19",
    "_uuid": "8f2839f25d086af736a60e9eeb907d3b93b6e0e5",
    "execution": {
     "iopub.execute_input": "2022-10-25T22:07:46.169170Z",
     "iopub.status.busy": "2022-10-25T22:07:46.168267Z",
     "iopub.status.idle": "2022-10-25T22:07:46.180978Z",
     "shell.execute_reply": "2022-10-25T22:07:46.180048Z"
    },
    "papermill": {
     "duration": 0.024318,
     "end_time": "2022-10-25T22:07:46.183663",
     "exception": false,
     "start_time": "2022-10-25T22:07:46.159345",
     "status": "completed"
    },
    "tags": []
   },
   "outputs": [],
   "source": [
    "# This Python 3 environment comes with many helpful analytics libraries installed\n",
    "# It is defined by the kaggle/python Docker image: https://github.com/kaggle/docker-python\n",
    "# For example, here's several helpful packages to load\n",
    "\n",
    "import numpy as np # linear algebra\n",
    "import pandas as pd # data processing, CSV file I/O (e.g. pd.read_csv)\n",
    "\n",
    "# Input data files are available in the read-only \"../input/\" directory\n",
    "# For example, running this (by clicking run or pressing Shift+Enter) will list all files under the input directory\n",
    "\n",
    "import os\n",
    "for dirname, _, filenames in os.walk('/kaggle/input'):\n",
    "    for filename in filenames:\n",
    "        print(os.path.join(dirname, filename))\n",
    "\n",
    "# You can write up to 20GB to the current directory (/kaggle/working/) that gets preserved as output when you create a version using \"Save & Run All\" \n",
    "# You can also write temporary files to /kaggle/temp/, but they won't be saved outside of the current session"
   ]
  },
  {
   "cell_type": "markdown",
   "id": "924ea329",
   "metadata": {
    "papermill": {
     "duration": 0.004138,
     "end_time": "2022-10-25T22:07:46.193223",
     "exception": false,
     "start_time": "2022-10-25T22:07:46.189085",
     "status": "completed"
    },
    "tags": []
   },
   "source": [
    "### Create NumPy array\n",
    "Pass a python list to np.array(list)  \n",
    "np.zeros((5,3)) pass a tuple of integers to shape the array\n",
    "* Same with np.random.random((2,4))  \n",
    "\n",
    "np.arange(-3,4)\n",
    "## Numpy Arrays\n",
    "* Same data types"
   ]
  },
  {
   "cell_type": "code",
   "execution_count": 2,
   "id": "1db705ea",
   "metadata": {
    "execution": {
     "iopub.execute_input": "2022-10-25T22:07:46.201829Z",
     "iopub.status.busy": "2022-10-25T22:07:46.201429Z",
     "iopub.status.idle": "2022-10-25T22:07:46.209852Z",
     "shell.execute_reply": "2022-10-25T22:07:46.208958Z"
    },
    "papermill": {
     "duration": 0.017202,
     "end_time": "2022-10-25T22:07:46.213969",
     "exception": false,
     "start_time": "2022-10-25T22:07:46.196767",
     "status": "completed"
    },
    "tags": []
   },
   "outputs": [
    {
     "name": "stdout",
     "output_type": "stream",
     "text": [
      "[[[ 1  2]\n",
      "  [ 3  4]]\n",
      "\n",
      " [[ 5  6]\n",
      "  [ 7  8]]\n",
      "\n",
      " [[ 9 10]\n",
      "  [11 12]]]\n"
     ]
    }
   ],
   "source": [
    "ar1 = np.array([[1,2], [3,4]])\n",
    "ar2 = np.array([[5,6], [7,8]])\n",
    "ar3 = np.array([[9,10], [11,12]])\n",
    "threeDimArr = np.array([ar1,ar2,ar3])\n",
    "print(threeDimArr)"
   ]
  },
  {
   "cell_type": "markdown",
   "id": "d95890a6",
   "metadata": {
    "papermill": {
     "duration": 0.003224,
     "end_time": "2022-10-25T22:07:46.221553",
     "exception": false,
     "start_time": "2022-10-25T22:07:46.218329",
     "status": "completed"
    },
    "tags": []
   },
   "source": [
    "Vector - array of 1 dimension  \n",
    "Matrix = 2 dimensions  \n",
    "Tenson = 3+ dimensions  \n",
    "Rows = 1st dimension  \n",
    "Columns = 2nd dimension  \n",
    "### Array attributes & methods\n",
    "* arr.shape()\n",
    "* arr.reshape()\n",
    "* arr.flatten()"
   ]
  },
  {
   "cell_type": "markdown",
   "id": "e41336ab",
   "metadata": {
    "papermill": {
     "duration": 0.003129,
     "end_time": "2022-10-25T22:07:46.228283",
     "exception": false,
     "start_time": "2022-10-25T22:07:46.225154",
     "status": "completed"
    },
    "tags": []
   },
   "source": [
    "## Numpy Datatypes  \n",
    "np.int64  \n",
    "np.int32  \n",
    "np.float64  \n",
    "np.float32  \n",
    "### Array data type\n",
    "arr.dtype"
   ]
  },
  {
   "cell_type": "markdown",
   "id": "4ec97a2a",
   "metadata": {
    "papermill": {
     "duration": 0.003142,
     "end_time": "2022-10-25T22:07:46.234876",
     "exception": false,
     "start_time": "2022-10-25T22:07:46.231734",
     "status": "completed"
    },
    "tags": []
   },
   "source": [
    "## Indexing and slicing arrays  \n",
    "### Sorting\n",
    "np.sort(array) by rows or columns"
   ]
  },
  {
   "cell_type": "markdown",
   "id": "bf46843e",
   "metadata": {
    "papermill": {
     "duration": 0.003048,
     "end_time": "2022-10-25T22:07:46.241301",
     "exception": false,
     "start_time": "2022-10-25T22:07:46.238253",
     "status": "completed"
    },
    "tags": []
   },
   "source": [
    "## Filtering  \n",
    "### Masks and fancy indexing\n",
    "Index the array using the mask to filter for specific values\n",
    "### np.where()\n",
    "Returns array of **indices** of elements that meet the condition  \n",
    "Indices can be used to update an array"
   ]
  },
  {
   "cell_type": "markdown",
   "id": "62bd383e",
   "metadata": {
    "papermill": {
     "duration": 0.003203,
     "end_time": "2022-10-25T22:07:46.247873",
     "exception": false,
     "start_time": "2022-10-25T22:07:46.244670",
     "status": "completed"
    },
    "tags": []
   },
   "source": [
    "## Adding and removing data\n",
    "### np.concatenate((tuple))\n",
    "* axis argument for columns or rows  \n",
    "* Needs to have compatible shapes on the axis where you're trying to concatenate\n",
    "* Need dimension compatibility  \n",
    "use arr.reshape()\n",
    "* Can't add new dimensions  \n",
    "\n",
    "### np.delete(array, slice or array of indices, axis)\n",
    "Outputs a flattened array when axis is not specified"
   ]
  },
  {
   "cell_type": "markdown",
   "id": "4bbb06a2",
   "metadata": {
    "papermill": {
     "duration": 0.003148,
     "end_time": "2022-10-25T22:07:46.254445",
     "exception": false,
     "start_time": "2022-10-25T22:07:46.251297",
     "status": "completed"
    },
    "tags": []
   },
   "source": [
    "## Summarizing data\n",
    "* .sum(axis)\n",
    "* .min(axis) or .max(axis)\n",
    "* .mean()  \n",
    "Optional keepdims=Boolean to keep the dimensions  \n",
    "* .cumsum()"
   ]
  },
  {
   "cell_type": "markdown",
   "id": "a9e5b2c9",
   "metadata": {
    "papermill": {
     "duration": 0.003065,
     "end_time": "2022-10-25T22:07:46.260851",
     "exception": false,
     "start_time": "2022-10-25T22:07:46.257786",
     "status": "completed"
    },
    "tags": []
   },
   "source": [
    "## Vectorized operations\n",
    "Outsource to C  \n",
    "array + scalar\n",
    "### Boolean masks\n",
    "An array is a scalar (vectorized syntax)\n",
    "### np.vectorize(python function)\n",
    "Vectorize a python function into a numpy function  \n",
    "**Example**  \n",
    "vectorized_upper = np.vectorize(**str**.upper)"
   ]
  },
  {
   "cell_type": "markdown",
   "id": "a51bdf30",
   "metadata": {
    "papermill": {
     "duration": 0.003105,
     "end_time": "2022-10-25T22:07:46.267493",
     "exception": false,
     "start_time": "2022-10-25T22:07:46.264388",
     "status": "completed"
    },
    "tags": []
   },
   "source": [
    "## Broadcasting\n",
    "Math operations between arrays of different shapes\n",
    "### Compatibility rules\n",
    "1. Compare array dimensions from right to left  \n",
    "Compatible when one has a length of 1 or they are of equal lengths\n",
    "1. All dimension sets must be compatible\n",
    "1. Two arrays don't need the same number of dimensions to be broadcastable  \n",
    "**You can reshape the arrays to make the trailing dimension compatible**"
   ]
  },
  {
   "cell_type": "markdown",
   "id": "c056d3ac",
   "metadata": {
    "papermill": {
     "duration": 0.003132,
     "end_time": "2022-10-25T22:07:46.274052",
     "exception": false,
     "start_time": "2022-10-25T22:07:46.270920",
     "status": "completed"
    },
    "tags": []
   },
   "source": [
    "## Saving and loading arrays\n",
    "### Loading\n",
    "with open(\"logo.npy\", \"rb\") as f:  \n",
    "&nbsp;&nbsp; logo_rgb_array = np.load(f)  \n",
    "plt.imshow(logo_rgb_array)  \n",
    "plt.show()\n",
    "### Saving\n",
    "with open(\"new_logo.npy\", \"wb\") as f:  \n",
    "&nbsp;&nbsp; np.save(f,new_logo_array)"
   ]
  },
  {
   "cell_type": "code",
   "execution_count": null,
   "id": "f39876b5",
   "metadata": {
    "papermill": {
     "duration": 0.003217,
     "end_time": "2022-10-25T22:07:46.281035",
     "exception": false,
     "start_time": "2022-10-25T22:07:46.277818",
     "status": "completed"
    },
    "tags": []
   },
   "outputs": [],
   "source": []
  }
 ],
 "metadata": {
  "kernelspec": {
   "display_name": "Python 3",
   "language": "python",
   "name": "python3"
  },
  "language_info": {
   "codemirror_mode": {
    "name": "ipython",
    "version": 3
   },
   "file_extension": ".py",
   "mimetype": "text/x-python",
   "name": "python",
   "nbconvert_exporter": "python",
   "pygments_lexer": "ipython3",
   "version": "3.7.12"
  },
  "papermill": {
   "default_parameters": {},
   "duration": 10.206277,
   "end_time": "2022-10-25T22:07:47.008296",
   "environment_variables": {},
   "exception": null,
   "input_path": "__notebook__.ipynb",
   "output_path": "__notebook__.ipynb",
   "parameters": {},
   "start_time": "2022-10-25T22:07:36.802019",
   "version": "2.3.4"
  }
 },
 "nbformat": 4,
 "nbformat_minor": 5
}
