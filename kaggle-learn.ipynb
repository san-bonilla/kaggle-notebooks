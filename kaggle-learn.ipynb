{
 "cells": [
  {
   "cell_type": "code",
   "execution_count": 1,
   "id": "9d9d932b",
   "metadata": {
    "_cell_guid": "b1076dfc-b9ad-4769-8c92-a6c4dae69d19",
    "_uuid": "8f2839f25d086af736a60e9eeb907d3b93b6e0e5",
    "execution": {
     "iopub.execute_input": "2023-01-19T18:54:52.765847Z",
     "iopub.status.busy": "2023-01-19T18:54:52.765405Z",
     "iopub.status.idle": "2023-01-19T18:54:52.776968Z",
     "shell.execute_reply": "2023-01-19T18:54:52.776086Z"
    },
    "papermill": {
     "duration": 0.020531,
     "end_time": "2023-01-19T18:54:52.779365",
     "exception": false,
     "start_time": "2023-01-19T18:54:52.758834",
     "status": "completed"
    },
    "tags": []
   },
   "outputs": [],
   "source": [
    "# This Python 3 environment comes with many helpful analytics libraries installed\n",
    "# It is defined by the kaggle/python Docker image: https://github.com/kaggle/docker-python\n",
    "# For example, here's several helpful packages to load\n",
    "\n",
    "import numpy as np # linear algebra\n",
    "import pandas as pd # data processing, CSV file I/O (e.g. pd.read_csv)\n",
    "\n",
    "# Input data files are available in the read-only \"../input/\" directory\n",
    "# For example, running this (by clicking run or pressing Shift+Enter) will list all files under the input directory\n",
    "\n",
    "import os\n",
    "for dirname, _, filenames in os.walk('/kaggle/input'):\n",
    "    for filename in filenames:\n",
    "        print(os.path.join(dirname, filename))\n",
    "\n",
    "# You can write up to 20GB to the current directory (/kaggle/working/) that gets preserved as output when you create a version using \"Save & Run All\" \n",
    "# You can also write temporary files to /kaggle/temp/, but they won't be saved outside of the current session"
   ]
  },
  {
   "cell_type": "code",
   "execution_count": 2,
   "id": "c2e8eed6",
   "metadata": {
    "execution": {
     "iopub.execute_input": "2023-01-19T18:54:52.788486Z",
     "iopub.status.busy": "2023-01-19T18:54:52.788147Z",
     "iopub.status.idle": "2023-01-19T18:54:52.793612Z",
     "shell.execute_reply": "2023-01-19T18:54:52.792570Z"
    },
    "papermill": {
     "duration": 0.01255,
     "end_time": "2023-01-19T18:54:52.795863",
     "exception": false,
     "start_time": "2023-01-19T18:54:52.783313",
     "status": "completed"
    },
    "tags": []
   },
   "outputs": [],
   "source": [
    "def least_difference(a, b, c):\n",
    "    \"\"\"Return the smallest difference between any two numbers\n",
    "    among a, b and c.\n",
    "    \n",
    "    >>> least_difference(1, 5, -5)\n",
    "    4\n",
    "    \"\"\"\n",
    "    diff1 = abs(a - b)\n",
    "    diff2 = abs(b - c)\n",
    "    diff3 = abs(a - c)\n",
    "    return min(diff1, diff2, diff3)"
   ]
  },
  {
   "cell_type": "code",
   "execution_count": 3,
   "id": "65d3ea4f",
   "metadata": {
    "execution": {
     "iopub.execute_input": "2023-01-19T18:54:52.804613Z",
     "iopub.status.busy": "2023-01-19T18:54:52.804262Z",
     "iopub.status.idle": "2023-01-19T18:54:52.810361Z",
     "shell.execute_reply": "2023-01-19T18:54:52.809151Z"
    },
    "papermill": {
     "duration": 0.014106,
     "end_time": "2023-01-19T18:54:52.813690",
     "exception": false,
     "start_time": "2023-01-19T18:54:52.799584",
     "status": "completed"
    },
    "tags": []
   },
   "outputs": [
    {
     "name": "stdout",
     "output_type": "stream",
     "text": [
      "Help on function least_difference in module __main__:\n",
      "\n",
      "least_difference(a, b, c)\n",
      "    Return the smallest difference between any two numbers\n",
      "    among a, b and c.\n",
      "    \n",
      "    >>> least_difference(1, 5, -5)\n",
      "    4\n",
      "\n"
     ]
    }
   ],
   "source": [
    "help(least_difference)"
   ]
  },
  {
   "cell_type": "code",
   "execution_count": 4,
   "id": "0ec0827d",
   "metadata": {
    "execution": {
     "iopub.execute_input": "2023-01-19T18:54:52.822857Z",
     "iopub.status.busy": "2023-01-19T18:54:52.822233Z",
     "iopub.status.idle": "2023-01-19T18:54:52.831176Z",
     "shell.execute_reply": "2023-01-19T18:54:52.830251Z"
    },
    "papermill": {
     "duration": 0.015809,
     "end_time": "2023-01-19T18:54:52.833293",
     "exception": false,
     "start_time": "2023-01-19T18:54:52.817484",
     "status": "completed"
    },
    "tags": []
   },
   "outputs": [
    {
     "data": {
      "text/plain": [
       "'P! l! u! t! o! '"
      ]
     },
     "execution_count": 4,
     "metadata": {},
     "output_type": "execute_result"
    }
   ],
   "source": [
    "planet = 'Pluto'\n",
    "''.join([char+'! ' for char in planet])"
   ]
  },
  {
   "cell_type": "code",
   "execution_count": 5,
   "id": "af5e5f7a",
   "metadata": {
    "execution": {
     "iopub.execute_input": "2023-01-19T18:54:52.842560Z",
     "iopub.status.busy": "2023-01-19T18:54:52.842015Z",
     "iopub.status.idle": "2023-01-19T18:54:52.847664Z",
     "shell.execute_reply": "2023-01-19T18:54:52.846467Z"
    },
    "papermill": {
     "duration": 0.012973,
     "end_time": "2023-01-19T18:54:52.850086",
     "exception": false,
     "start_time": "2023-01-19T18:54:52.837113",
     "status": "completed"
    },
    "tags": []
   },
   "outputs": [
    {
     "name": "stdout",
     "output_type": "stream",
     "text": [
      "1956 01 31\n"
     ]
    }
   ],
   "source": [
    "datestr = '1956-01-31'\n",
    "year, month, day = datestr.split('-')\n",
    "print(year, month, day)"
   ]
  },
  {
   "cell_type": "markdown",
   "id": "5a9bea68",
   "metadata": {
    "papermill": {
     "duration": 0.003732,
     "end_time": "2023-01-19T18:54:52.857837",
     "exception": false,
     "start_time": "2023-01-19T18:54:52.854105",
     "status": "completed"
    },
    "tags": []
   },
   "source": [
    "String formatting"
   ]
  },
  {
   "cell_type": "code",
   "execution_count": 6,
   "id": "c677468c",
   "metadata": {
    "execution": {
     "iopub.execute_input": "2023-01-19T18:54:52.867107Z",
     "iopub.status.busy": "2023-01-19T18:54:52.866752Z",
     "iopub.status.idle": "2023-01-19T18:54:52.873087Z",
     "shell.execute_reply": "2023-01-19T18:54:52.871877Z"
    },
    "papermill": {
     "duration": 0.01362,
     "end_time": "2023-01-19T18:54:52.875267",
     "exception": false,
     "start_time": "2023-01-19T18:54:52.861647",
     "status": "completed"
    },
    "tags": []
   },
   "outputs": [
    {
     "data": {
      "text/plain": [
       "\"Pluto, you'll always be the 9th planet to me.\""
      ]
     },
     "execution_count": 6,
     "metadata": {},
     "output_type": "execute_result"
    }
   ],
   "source": [
    "planet, position = 'Pluto', 9\n",
    "\"{}, you'll always be the {}th planet to me.\".format(planet, position)"
   ]
  },
  {
   "cell_type": "code",
   "execution_count": 7,
   "id": "6ea95324",
   "metadata": {
    "execution": {
     "iopub.execute_input": "2023-01-19T18:54:52.885142Z",
     "iopub.status.busy": "2023-01-19T18:54:52.884531Z",
     "iopub.status.idle": "2023-01-19T18:54:52.890754Z",
     "shell.execute_reply": "2023-01-19T18:54:52.890031Z"
    },
    "papermill": {
     "duration": 0.013247,
     "end_time": "2023-01-19T18:54:52.892611",
     "exception": false,
     "start_time": "2023-01-19T18:54:52.879364",
     "status": "completed"
    },
    "tags": []
   },
   "outputs": [
    {
     "data": {
      "text/plain": [
       "\"Pluto weighs about 1.3e+22 kilograms (0.218% of Earth's mass). It is home to 52,910,390 Plutonians.\""
      ]
     },
     "execution_count": 7,
     "metadata": {},
     "output_type": "execute_result"
    }
   ],
   "source": [
    "pluto_mass = 1.303 * 10**22\n",
    "earth_mass = 5.9722 * 10**24\n",
    "population = 52910390\n",
    "#         2 decimal points   3 decimal points, format as percent     separate with commas\n",
    "\"{} weighs about {:.2} kilograms ({:.3%} of Earth's mass). It is home to {:,} Plutonians.\".format(\n",
    "    planet, pluto_mass, pluto_mass / earth_mass, population,\n",
    ")"
   ]
  },
  {
   "cell_type": "code",
   "execution_count": 8,
   "id": "e6cf7537",
   "metadata": {
    "execution": {
     "iopub.execute_input": "2023-01-19T18:54:52.902571Z",
     "iopub.status.busy": "2023-01-19T18:54:52.901936Z",
     "iopub.status.idle": "2023-01-19T18:54:52.907004Z",
     "shell.execute_reply": "2023-01-19T18:54:52.905898Z"
    },
    "papermill": {
     "duration": 0.012459,
     "end_time": "2023-01-19T18:54:52.909166",
     "exception": false,
     "start_time": "2023-01-19T18:54:52.896707",
     "status": "completed"
    },
    "tags": []
   },
   "outputs": [
    {
     "name": "stdout",
     "output_type": "stream",
     "text": [
      "Pluto's a planet.\n",
      "No, it's a dwarf planet.\n",
      "planet!\n",
      "dwarf planet!\n"
     ]
    }
   ],
   "source": [
    "# Referring to format() arguments by index, starting from 0\n",
    "s = \"\"\"Pluto's a {0}.\n",
    "No, it's a {1}.\n",
    "{0}!\n",
    "{1}!\"\"\".format('planet', 'dwarf planet')\n",
    "print(s)"
   ]
  },
  {
   "cell_type": "markdown",
   "id": "29a5f977",
   "metadata": {
    "papermill": {
     "duration": 0.003934,
     "end_time": "2023-01-19T18:54:52.917304",
     "exception": false,
     "start_time": "2023-01-19T18:54:52.913370",
     "status": "completed"
    },
    "tags": []
   },
   "source": [
    "Dictionary comprehensions"
   ]
  },
  {
   "cell_type": "code",
   "execution_count": 9,
   "id": "6485de09",
   "metadata": {
    "execution": {
     "iopub.execute_input": "2023-01-19T18:54:52.927381Z",
     "iopub.status.busy": "2023-01-19T18:54:52.926736Z",
     "iopub.status.idle": "2023-01-19T18:54:52.933227Z",
     "shell.execute_reply": "2023-01-19T18:54:52.932561Z"
    },
    "papermill": {
     "duration": 0.01359,
     "end_time": "2023-01-19T18:54:52.935074",
     "exception": false,
     "start_time": "2023-01-19T18:54:52.921484",
     "status": "completed"
    },
    "tags": []
   },
   "outputs": [
    {
     "data": {
      "text/plain": [
       "{'Mercury_initial': 'M',\n",
       " 'Venus_initial': 'V',\n",
       " 'Earth_initial': 'E',\n",
       " 'Mars_initial': 'M',\n",
       " 'Jupiter_initial': 'J',\n",
       " 'Saturn_initial': 'S',\n",
       " 'Uranus_initial': 'U',\n",
       " 'Neptune_initial': 'N'}"
      ]
     },
     "execution_count": 9,
     "metadata": {},
     "output_type": "execute_result"
    }
   ],
   "source": [
    "planets = ['Mercury', 'Venus', 'Earth', 'Mars', 'Jupiter', 'Saturn', 'Uranus', 'Neptune']\n",
    "planet_to_initial = {'{}_initial'.format(planet): planet[0] for planet in planets}\n",
    "planet_to_initial"
   ]
  },
  {
   "cell_type": "code",
   "execution_count": 10,
   "id": "e5c78f99",
   "metadata": {
    "execution": {
     "iopub.execute_input": "2023-01-19T18:54:52.945150Z",
     "iopub.status.busy": "2023-01-19T18:54:52.944571Z",
     "iopub.status.idle": "2023-01-19T18:54:52.950451Z",
     "shell.execute_reply": "2023-01-19T18:54:52.949457Z"
    },
    "papermill": {
     "duration": 0.013265,
     "end_time": "2023-01-19T18:54:52.952569",
     "exception": false,
     "start_time": "2023-01-19T18:54:52.939304",
     "status": "completed"
    },
    "tags": []
   },
   "outputs": [
    {
     "data": {
      "text/plain": [
       "'E J M M N S U V'"
      ]
     },
     "execution_count": 10,
     "metadata": {},
     "output_type": "execute_result"
    }
   ],
   "source": [
    "' '.join(sorted(planet_to_initial.values()))"
   ]
  },
  {
   "cell_type": "markdown",
   "id": "c0b1e294",
   "metadata": {
    "papermill": {
     "duration": 0.004157,
     "end_time": "2023-01-19T18:54:52.961104",
     "exception": false,
     "start_time": "2023-01-19T18:54:52.956947",
     "status": "completed"
    },
    "tags": []
   },
   "source": [
    "`dict.items()` is a key,value pair"
   ]
  },
  {
   "cell_type": "code",
   "execution_count": null,
   "id": "3580ca8d",
   "metadata": {
    "papermill": {
     "duration": 0.004174,
     "end_time": "2023-01-19T18:54:52.969707",
     "exception": false,
     "start_time": "2023-01-19T18:54:52.965533",
     "status": "completed"
    },
    "tags": []
   },
   "outputs": [],
   "source": []
  }
 ],
 "metadata": {
  "kernelspec": {
   "display_name": "Python 3",
   "language": "python",
   "name": "python3"
  },
  "language_info": {
   "codemirror_mode": {
    "name": "ipython",
    "version": 3
   },
   "file_extension": ".py",
   "mimetype": "text/x-python",
   "name": "python",
   "nbconvert_exporter": "python",
   "pygments_lexer": "ipython3",
   "version": "3.7.12"
  },
  "papermill": {
   "default_parameters": {},
   "duration": 8.842699,
   "end_time": "2023-01-19T18:54:53.594974",
   "environment_variables": {},
   "exception": null,
   "input_path": "__notebook__.ipynb",
   "output_path": "__notebook__.ipynb",
   "parameters": {},
   "start_time": "2023-01-19T18:54:44.752275",
   "version": "2.3.4"
  }
 },
 "nbformat": 4,
 "nbformat_minor": 5
}
