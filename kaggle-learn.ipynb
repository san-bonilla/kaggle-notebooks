{
 "cells": [
  {
   "cell_type": "code",
   "execution_count": 1,
   "id": "e4e77fff",
   "metadata": {
    "_cell_guid": "b1076dfc-b9ad-4769-8c92-a6c4dae69d19",
    "_uuid": "8f2839f25d086af736a60e9eeb907d3b93b6e0e5",
    "execution": {
     "iopub.execute_input": "2023-01-22T15:39:40.441184Z",
     "iopub.status.busy": "2023-01-22T15:39:40.440486Z",
     "iopub.status.idle": "2023-01-22T15:39:40.453903Z",
     "shell.execute_reply": "2023-01-22T15:39:40.452275Z"
    },
    "papermill": {
     "duration": 0.025971,
     "end_time": "2023-01-22T15:39:40.456887",
     "exception": false,
     "start_time": "2023-01-22T15:39:40.430916",
     "status": "completed"
    },
    "tags": []
   },
   "outputs": [],
   "source": [
    "# This Python 3 environment comes with many helpful analytics libraries installed\n",
    "# It is defined by the kaggle/python Docker image: https://github.com/kaggle/docker-python\n",
    "# For example, here's several helpful packages to load\n",
    "\n",
    "import numpy as np # linear algebra\n",
    "import pandas as pd # data processing, CSV file I/O (e.g. pd.read_csv)\n",
    "\n",
    "# Input data files are available in the read-only \"../input/\" directory\n",
    "# For example, running this (by clicking run or pressing Shift+Enter) will list all files under the input directory\n",
    "\n",
    "import os\n",
    "for dirname, _, filenames in os.walk('/kaggle/input'):\n",
    "    for filename in filenames:\n",
    "        print(os.path.join(dirname, filename))\n",
    "\n",
    "# You can write up to 20GB to the current directory (/kaggle/working/) that gets preserved as output when you create a version using \"Save & Run All\" \n",
    "# You can also write temporary files to /kaggle/temp/, but they won't be saved outside of the current session"
   ]
  },
  {
   "cell_type": "code",
   "execution_count": 2,
   "id": "61d71a6d",
   "metadata": {
    "execution": {
     "iopub.execute_input": "2023-01-22T15:39:40.472099Z",
     "iopub.status.busy": "2023-01-22T15:39:40.471649Z",
     "iopub.status.idle": "2023-01-22T15:39:40.477820Z",
     "shell.execute_reply": "2023-01-22T15:39:40.476904Z"
    },
    "papermill": {
     "duration": 0.016607,
     "end_time": "2023-01-22T15:39:40.480035",
     "exception": false,
     "start_time": "2023-01-22T15:39:40.463428",
     "status": "completed"
    },
    "tags": []
   },
   "outputs": [],
   "source": [
    "def least_difference(a, b, c):\n",
    "    \"\"\"Return the smallest difference between any two numbers\n",
    "    among a, b and c.\n",
    "    \n",
    "    >>> least_difference(1, 5, -5)\n",
    "    4\n",
    "    \"\"\"\n",
    "    diff1 = abs(a - b)\n",
    "    diff2 = abs(b - c)\n",
    "    diff3 = abs(a - c)\n",
    "    return min(diff1, diff2, diff3)"
   ]
  },
  {
   "cell_type": "code",
   "execution_count": 3,
   "id": "7e4772a4",
   "metadata": {
    "execution": {
     "iopub.execute_input": "2023-01-22T15:39:40.495231Z",
     "iopub.status.busy": "2023-01-22T15:39:40.494075Z",
     "iopub.status.idle": "2023-01-22T15:39:40.500505Z",
     "shell.execute_reply": "2023-01-22T15:39:40.499631Z"
    },
    "papermill": {
     "duration": 0.016377,
     "end_time": "2023-01-22T15:39:40.502768",
     "exception": false,
     "start_time": "2023-01-22T15:39:40.486391",
     "status": "completed"
    },
    "tags": []
   },
   "outputs": [
    {
     "name": "stdout",
     "output_type": "stream",
     "text": [
      "Help on function least_difference in module __main__:\n",
      "\n",
      "least_difference(a, b, c)\n",
      "    Return the smallest difference between any two numbers\n",
      "    among a, b and c.\n",
      "    \n",
      "    >>> least_difference(1, 5, -5)\n",
      "    4\n",
      "\n"
     ]
    }
   ],
   "source": [
    "help(least_difference)"
   ]
  },
  {
   "cell_type": "code",
   "execution_count": 4,
   "id": "09bba3fc",
   "metadata": {
    "execution": {
     "iopub.execute_input": "2023-01-22T15:39:40.518699Z",
     "iopub.status.busy": "2023-01-22T15:39:40.517526Z",
     "iopub.status.idle": "2023-01-22T15:39:40.526947Z",
     "shell.execute_reply": "2023-01-22T15:39:40.525863Z"
    },
    "papermill": {
     "duration": 0.019697,
     "end_time": "2023-01-22T15:39:40.529261",
     "exception": false,
     "start_time": "2023-01-22T15:39:40.509564",
     "status": "completed"
    },
    "tags": []
   },
   "outputs": [
    {
     "data": {
      "text/plain": [
       "'P! l! u! t! o! '"
      ]
     },
     "execution_count": 4,
     "metadata": {},
     "output_type": "execute_result"
    }
   ],
   "source": [
    "planet = 'Pluto'\n",
    "''.join([char+'! ' for char in planet])"
   ]
  },
  {
   "cell_type": "code",
   "execution_count": 5,
   "id": "c0385350",
   "metadata": {
    "execution": {
     "iopub.execute_input": "2023-01-22T15:39:40.545272Z",
     "iopub.status.busy": "2023-01-22T15:39:40.544122Z",
     "iopub.status.idle": "2023-01-22T15:39:40.551209Z",
     "shell.execute_reply": "2023-01-22T15:39:40.549680Z"
    },
    "papermill": {
     "duration": 0.017634,
     "end_time": "2023-01-22T15:39:40.553784",
     "exception": false,
     "start_time": "2023-01-22T15:39:40.536150",
     "status": "completed"
    },
    "tags": []
   },
   "outputs": [
    {
     "name": "stdout",
     "output_type": "stream",
     "text": [
      "1956 01 31\n"
     ]
    }
   ],
   "source": [
    "datestr = '1956-01-31'\n",
    "year, month, day = datestr.split('-')\n",
    "print(year, month, day)"
   ]
  },
  {
   "cell_type": "markdown",
   "id": "1fda31d5",
   "metadata": {
    "papermill": {
     "duration": 0.006919,
     "end_time": "2023-01-22T15:39:40.567301",
     "exception": false,
     "start_time": "2023-01-22T15:39:40.560382",
     "status": "completed"
    },
    "tags": []
   },
   "source": [
    "String formatting"
   ]
  },
  {
   "cell_type": "code",
   "execution_count": 6,
   "id": "37f29a78",
   "metadata": {
    "execution": {
     "iopub.execute_input": "2023-01-22T15:39:40.582802Z",
     "iopub.status.busy": "2023-01-22T15:39:40.582071Z",
     "iopub.status.idle": "2023-01-22T15:39:40.589235Z",
     "shell.execute_reply": "2023-01-22T15:39:40.588052Z"
    },
    "papermill": {
     "duration": 0.017421,
     "end_time": "2023-01-22T15:39:40.591507",
     "exception": false,
     "start_time": "2023-01-22T15:39:40.574086",
     "status": "completed"
    },
    "tags": []
   },
   "outputs": [
    {
     "data": {
      "text/plain": [
       "\"Pluto, you'll always be the 9th planet to me.\""
      ]
     },
     "execution_count": 6,
     "metadata": {},
     "output_type": "execute_result"
    }
   ],
   "source": [
    "planet, position = 'Pluto', 9\n",
    "\"{}, you'll always be the {}th planet to me.\".format(planet, position)"
   ]
  },
  {
   "cell_type": "code",
   "execution_count": 7,
   "id": "bc46ed99",
   "metadata": {
    "execution": {
     "iopub.execute_input": "2023-01-22T15:39:40.608191Z",
     "iopub.status.busy": "2023-01-22T15:39:40.607736Z",
     "iopub.status.idle": "2023-01-22T15:39:40.616285Z",
     "shell.execute_reply": "2023-01-22T15:39:40.615107Z"
    },
    "papermill": {
     "duration": 0.020508,
     "end_time": "2023-01-22T15:39:40.618812",
     "exception": false,
     "start_time": "2023-01-22T15:39:40.598304",
     "status": "completed"
    },
    "tags": []
   },
   "outputs": [
    {
     "data": {
      "text/plain": [
       "\"Pluto weighs about 1.3e+22 kilograms (0.218% of Earth's mass). It is home to 52,910,390 Plutonians.\""
      ]
     },
     "execution_count": 7,
     "metadata": {},
     "output_type": "execute_result"
    }
   ],
   "source": [
    "pluto_mass = 1.303 * 10**22\n",
    "earth_mass = 5.9722 * 10**24\n",
    "population = 52910390\n",
    "#         2 decimal points   3 decimal points, format as percent     separate with commas\n",
    "\"{} weighs about {:.2} kilograms ({:.3%} of Earth's mass). It is home to {:,} Plutonians.\".format(\n",
    "    planet, pluto_mass, pluto_mass / earth_mass, population,\n",
    ")"
   ]
  },
  {
   "cell_type": "code",
   "execution_count": 8,
   "id": "cc281196",
   "metadata": {
    "execution": {
     "iopub.execute_input": "2023-01-22T15:39:40.634577Z",
     "iopub.status.busy": "2023-01-22T15:39:40.633872Z",
     "iopub.status.idle": "2023-01-22T15:39:40.640131Z",
     "shell.execute_reply": "2023-01-22T15:39:40.638946Z"
    },
    "papermill": {
     "duration": 0.016884,
     "end_time": "2023-01-22T15:39:40.642581",
     "exception": false,
     "start_time": "2023-01-22T15:39:40.625697",
     "status": "completed"
    },
    "tags": []
   },
   "outputs": [
    {
     "name": "stdout",
     "output_type": "stream",
     "text": [
      "Pluto's a planet.\n",
      "No, it's a dwarf planet.\n",
      "planet!\n",
      "dwarf planet!\n"
     ]
    }
   ],
   "source": [
    "# Referring to format() arguments by index, starting from 0\n",
    "s = \"\"\"Pluto's a {0}.\n",
    "No, it's a {1}.\n",
    "{0}!\n",
    "{1}!\"\"\".format('planet', 'dwarf planet')\n",
    "print(s)"
   ]
  },
  {
   "cell_type": "markdown",
   "id": "657d15ba",
   "metadata": {
    "papermill": {
     "duration": 0.006373,
     "end_time": "2023-01-22T15:39:40.655693",
     "exception": false,
     "start_time": "2023-01-22T15:39:40.649320",
     "status": "completed"
    },
    "tags": []
   },
   "source": [
    "Dictionary comprehensions"
   ]
  },
  {
   "cell_type": "code",
   "execution_count": 9,
   "id": "0a00f031",
   "metadata": {
    "execution": {
     "iopub.execute_input": "2023-01-22T15:39:40.670753Z",
     "iopub.status.busy": "2023-01-22T15:39:40.670371Z",
     "iopub.status.idle": "2023-01-22T15:39:40.679147Z",
     "shell.execute_reply": "2023-01-22T15:39:40.677947Z"
    },
    "papermill": {
     "duration": 0.019292,
     "end_time": "2023-01-22T15:39:40.681720",
     "exception": false,
     "start_time": "2023-01-22T15:39:40.662428",
     "status": "completed"
    },
    "tags": []
   },
   "outputs": [
    {
     "data": {
      "text/plain": [
       "{'Mercury_initial': 'M',\n",
       " 'Venus_initial': 'V',\n",
       " 'Earth_initial': 'E',\n",
       " 'Mars_initial': 'M',\n",
       " 'Jupiter_initial': 'J',\n",
       " 'Saturn_initial': 'S',\n",
       " 'Uranus_initial': 'U',\n",
       " 'Neptune_initial': 'N'}"
      ]
     },
     "execution_count": 9,
     "metadata": {},
     "output_type": "execute_result"
    }
   ],
   "source": [
    "planets = ['Mercury', 'Venus', 'Earth', 'Mars', 'Jupiter', 'Saturn', 'Uranus', 'Neptune']\n",
    "planet_to_initial = {'{}_initial'.format(planet): planet[0] for planet in planets}\n",
    "planet_to_initial"
   ]
  },
  {
   "cell_type": "code",
   "execution_count": 10,
   "id": "107457e5",
   "metadata": {
    "execution": {
     "iopub.execute_input": "2023-01-22T15:39:40.697617Z",
     "iopub.status.busy": "2023-01-22T15:39:40.697196Z",
     "iopub.status.idle": "2023-01-22T15:39:40.705427Z",
     "shell.execute_reply": "2023-01-22T15:39:40.703812Z"
    },
    "papermill": {
     "duration": 0.019614,
     "end_time": "2023-01-22T15:39:40.708567",
     "exception": false,
     "start_time": "2023-01-22T15:39:40.688953",
     "status": "completed"
    },
    "tags": []
   },
   "outputs": [
    {
     "data": {
      "text/plain": [
       "'E J M M N S U V'"
      ]
     },
     "execution_count": 10,
     "metadata": {},
     "output_type": "execute_result"
    }
   ],
   "source": [
    "' '.join(sorted(planet_to_initial.values()))"
   ]
  },
  {
   "cell_type": "markdown",
   "id": "1f413525",
   "metadata": {
    "papermill": {
     "duration": 0.006668,
     "end_time": "2023-01-22T15:39:40.722291",
     "exception": false,
     "start_time": "2023-01-22T15:39:40.715623",
     "status": "completed"
    },
    "tags": []
   },
   "source": [
    "`dict.items()` is a key,value pair"
   ]
  },
  {
   "cell_type": "code",
   "execution_count": 11,
   "id": "8e12fabc",
   "metadata": {
    "execution": {
     "iopub.execute_input": "2023-01-22T15:39:40.738094Z",
     "iopub.status.busy": "2023-01-22T15:39:40.737685Z",
     "iopub.status.idle": "2023-01-22T15:39:40.750125Z",
     "shell.execute_reply": "2023-01-22T15:39:40.748343Z"
    },
    "papermill": {
     "duration": 0.023872,
     "end_time": "2023-01-22T15:39:40.753209",
     "exception": false,
     "start_time": "2023-01-22T15:39:40.729337",
     "status": "completed"
    },
    "tags": []
   },
   "outputs": [
    {
     "data": {
      "text/plain": [
       "[0]"
      ]
     },
     "execution_count": 11,
     "metadata": {},
     "output_type": "execute_result"
    }
   ],
   "source": [
    "def word_search(doc_list, keyword):\n",
    "    \"\"\"\n",
    "    Takes a list of documents (each document is a string) and a keyword. \n",
    "    Returns list of the index values into the original list for all documents \n",
    "    containing the keyword.\n",
    "\n",
    "    Example:\n",
    "    doc_list = [\"The Learn Python Challenge Casino.\", \"They bought a car\", \"Casinoville\"]\n",
    "    >>> word_search(doc_list, 'casino')\n",
    "    >>> [0]\n",
    "    \"\"\"\n",
    "    # list to hold the indices of matching documents\n",
    "    indices = [] \n",
    "    # Iterate through the indices (i) and elements (doc) of documents\n",
    "    for i, doc in enumerate(doc_list):\n",
    "        # Split the string doc into a list of words (according to whitespace)\n",
    "        tokens = doc.split()\n",
    "        # Make a transformed list where we 'normalize' each word to facilitate matching.\n",
    "        # Periods and commas are removed from the end of each word, and it's set to all lowercase.\n",
    "        normalized = [token.rstrip('.,').lower() for token in tokens]\n",
    "        # Is there a match? If so, update the list of matching indices.\n",
    "        if keyword.lower() in normalized:\n",
    "            indices.append(i)\n",
    "    return indices\n",
    "doc_list = [\"The Learn Python Challenge Casino.\", \"They bought a car\", \"Casinoville\"]\n",
    "word_search(doc_list, 'casino')"
   ]
  },
  {
   "cell_type": "code",
   "execution_count": 12,
   "id": "21c55800",
   "metadata": {
    "execution": {
     "iopub.execute_input": "2023-01-22T15:39:40.769499Z",
     "iopub.status.busy": "2023-01-22T15:39:40.769111Z",
     "iopub.status.idle": "2023-01-22T15:39:40.781217Z",
     "shell.execute_reply": "2023-01-22T15:39:40.780101Z"
    },
    "papermill": {
     "duration": 0.023218,
     "end_time": "2023-01-22T15:39:40.783664",
     "exception": false,
     "start_time": "2023-01-22T15:39:40.760446",
     "status": "completed"
    },
    "tags": []
   },
   "outputs": [
    {
     "data": {
      "text/plain": [
       "{'casino': [0, 1], 'they': [1]}"
      ]
     },
     "execution_count": 12,
     "metadata": {},
     "output_type": "execute_result"
    }
   ],
   "source": [
    "def multi_word_search(doc_list, keywords):\n",
    "    \"\"\"\n",
    "    Takes list of documents (each document is a string) and a list of keywords.  \n",
    "    Returns a dictionary where each key is a keyword, and the value is a list of indices\n",
    "    (from doc_list) of the documents containing that keyword\n",
    "\n",
    "    >>> doc_list = [\"The Learn Python Challenge Casino.\", \"They bought a car and a casino\", \"Casinoville\"]\n",
    "    >>> keywords = ['casino', 'they']\n",
    "    >>> multi_word_search(doc_list, keywords)\n",
    "    {'casino': [0, 1], 'they': [1]}\n",
    "    \"\"\"\n",
    "    # dictionary to hold the indices of matching documents with their respective keyword\n",
    "    indices_dict = {}\n",
    "    # Iterate through the indices (i) and elements (doc) of documents\n",
    "    for i, doc in enumerate(doc_list):\n",
    "        # Split the string doc into a list of words (according to whitespace)\n",
    "        tokens = doc.split()\n",
    "        # Make a transformed list where we 'normalize' each word to facilitate matching.\n",
    "        # Periods and commas are removed from the end of each word, and it's set to all lowercase.\n",
    "        normalized = [token.rstrip('.,').lower() for token in tokens]\n",
    "        # Is there a match? If so, update the list of matching indices.\n",
    "        for keyword in keywords:\n",
    "            if keyword.lower() in normalized:\n",
    "                if keyword in indices_dict.keys():\n",
    "                    indices_dict[keyword].append(i)\n",
    "                else:\n",
    "                    indices_dict[keyword] = [i]\n",
    "    return indices_dict\n",
    "multi_word_search([\"The Learn Python Challenge Casino.\", \"They bought a car and a casino\", \"Casinoville\"], ['casino', 'they'])\n"
   ]
  },
  {
   "cell_type": "markdown",
   "id": "1f614973",
   "metadata": {
    "papermill": {
     "duration": 0.007229,
     "end_time": "2023-01-22T15:39:40.798235",
     "exception": false,
     "start_time": "2023-01-22T15:39:40.791006",
     "status": "completed"
    },
    "tags": []
   },
   "source": [
    "Another solution"
   ]
  },
  {
   "cell_type": "code",
   "execution_count": 13,
   "id": "5cb350c2",
   "metadata": {
    "execution": {
     "iopub.execute_input": "2023-01-22T15:39:40.816784Z",
     "iopub.status.busy": "2023-01-22T15:39:40.816385Z",
     "iopub.status.idle": "2023-01-22T15:39:40.822406Z",
     "shell.execute_reply": "2023-01-22T15:39:40.820764Z"
    },
    "papermill": {
     "duration": 0.019501,
     "end_time": "2023-01-22T15:39:40.825330",
     "exception": false,
     "start_time": "2023-01-22T15:39:40.805829",
     "status": "completed"
    },
    "tags": []
   },
   "outputs": [],
   "source": [
    "def multi_word_search(documents, keywords):\n",
    "    \"\"\" Call the word_search() function with each keyword, which already returns an array of indices and make that array the value for the corresponding key.\n",
    "    \"\"\"\n",
    "    keyword_to_indices = {}\n",
    "    for keyword in keywords:\n",
    "        keyword_to_indices[keyword] = word_search(documents, keyword)\n",
    "    return keyword_to_indices"
   ]
  },
  {
   "cell_type": "markdown",
   "id": "bc873fd2",
   "metadata": {
    "papermill": {
     "duration": 0.007218,
     "end_time": "2023-01-22T15:39:40.841209",
     "exception": false,
     "start_time": "2023-01-22T15:39:40.833991",
     "status": "completed"
    },
    "tags": []
   },
   "source": [
    "With dictionary comprehensions"
   ]
  },
  {
   "cell_type": "code",
   "execution_count": 14,
   "id": "8789c814",
   "metadata": {
    "execution": {
     "iopub.execute_input": "2023-01-22T15:39:40.858681Z",
     "iopub.status.busy": "2023-01-22T15:39:40.858294Z",
     "iopub.status.idle": "2023-01-22T15:39:40.871391Z",
     "shell.execute_reply": "2023-01-22T15:39:40.870199Z"
    },
    "papermill": {
     "duration": 0.024666,
     "end_time": "2023-01-22T15:39:40.873938",
     "exception": false,
     "start_time": "2023-01-22T15:39:40.849272",
     "status": "completed"
    },
    "tags": []
   },
   "outputs": [
    {
     "data": {
      "text/plain": [
       "{'casino': [0, 1], 'they': [1]}"
      ]
     },
     "execution_count": 14,
     "metadata": {},
     "output_type": "execute_result"
    }
   ],
   "source": [
    "def word_search(doc_list, keyword):\n",
    "    \"\"\"\n",
    "    Takes a list of documents (each document is a string) and a keyword. \n",
    "    Returns list of the index values into the original list for all documents \n",
    "    containing the keyword.\n",
    "\n",
    "    Example:\n",
    "    doc_list = [\"The Learn Python Challenge Casino.\", \"They bought a car\", \"Casinoville\"]\n",
    "    >>> word_search(doc_list, 'casino')\n",
    "    >>> [0]\n",
    "    \"\"\"\n",
    "    # list to hold the indices of matching documents\n",
    "    indices = [] \n",
    "    # Iterate through the indices (i) and elements (doc) of documents\n",
    "    for i, doc in enumerate(doc_list):\n",
    "        # Split the string doc into a list of words (according to whitespace)\n",
    "        tokens = doc.split()\n",
    "        # Make a transformed list where we 'normalize' each word to facilitate matching.\n",
    "        # Periods and commas are removed from the end of each word, and it's set to all lowercase.\n",
    "        normalized = [token.rstrip('.,').lower() for token in tokens]\n",
    "        # Is there a match? If so, update the list of matching indices.\n",
    "        if keyword.lower() in normalized:\n",
    "            indices.append(i)\n",
    "    return indices\n",
    "\n",
    "def multi_word_search(documents, keywords):\n",
    "    \"\"\" Call the word_search() function with each keyword, which already returns an array of indices and make that array the value for the corresponding key.\n",
    "    \"\"\"\n",
    "    return {keyword: word_search(documents, keyword) for keyword in keywords}\n",
    "multi_word_search([\"The Learn Python Challenge Casino.\", \"They bought a car and a casino\", \"Casinoville\"], ['casino', 'they'])"
   ]
  },
  {
   "cell_type": "markdown",
   "id": "1b466b22",
   "metadata": {
    "papermill": {
     "duration": 0.006857,
     "end_time": "2023-01-22T15:39:40.888260",
     "exception": false,
     "start_time": "2023-01-22T15:39:40.881403",
     "status": "completed"
    },
    "tags": []
   },
   "source": [
    "# External libraries"
   ]
  },
  {
   "cell_type": "code",
   "execution_count": 15,
   "id": "bd13bed3",
   "metadata": {
    "execution": {
     "iopub.execute_input": "2023-01-22T15:39:40.905300Z",
     "iopub.status.busy": "2023-01-22T15:39:40.904867Z",
     "iopub.status.idle": "2023-01-22T15:39:40.910801Z",
     "shell.execute_reply": "2023-01-22T15:39:40.909671Z"
    },
    "papermill": {
     "duration": 0.018324,
     "end_time": "2023-01-22T15:39:40.913980",
     "exception": false,
     "start_time": "2023-01-22T15:39:40.895656",
     "status": "completed"
    },
    "tags": []
   },
   "outputs": [
    {
     "name": "stdout",
     "output_type": "stream",
     "text": [
      "['__doc__', '__file__', '__loader__', '__name__', '__package__', '__spec__', 'acos', 'acosh', 'asin', 'asinh', 'atan', 'atan2', 'atanh', 'ceil', 'copysign', 'cos', 'cosh', 'degrees', 'e', 'erf', 'erfc', 'exp', 'expm1', 'fabs', 'factorial', 'floor', 'fmod', 'frexp', 'fsum', 'gamma', 'gcd', 'hypot', 'inf', 'isclose', 'isfinite', 'isinf', 'isnan', 'ldexp', 'lgamma', 'log', 'log10', 'log1p', 'log2', 'modf', 'nan', 'pi', 'pow', 'radians', 'remainder', 'sin', 'sinh', 'sqrt', 'tan', 'tanh', 'tau', 'trunc']\n"
     ]
    }
   ],
   "source": [
    "import math\n",
    "print(dir(math))"
   ]
  },
  {
   "cell_type": "code",
   "execution_count": 16,
   "id": "73cfb607",
   "metadata": {
    "execution": {
     "iopub.execute_input": "2023-01-22T15:39:40.931071Z",
     "iopub.status.busy": "2023-01-22T15:39:40.930665Z",
     "iopub.status.idle": "2023-01-22T15:39:40.936123Z",
     "shell.execute_reply": "2023-01-22T15:39:40.934837Z"
    },
    "papermill": {
     "duration": 0.017652,
     "end_time": "2023-01-22T15:39:40.939099",
     "exception": false,
     "start_time": "2023-01-22T15:39:40.921447",
     "status": "completed"
    },
    "tags": []
   },
   "outputs": [
    {
     "name": "stdout",
     "output_type": "stream",
     "text": [
      "pi to 4 significant digits = 3.142\n"
     ]
    }
   ],
   "source": [
    "print(\"pi to 4 significant digits = {:.4}\".format(math.pi))"
   ]
  },
  {
   "cell_type": "code",
   "execution_count": 17,
   "id": "4c2e81dd",
   "metadata": {
    "execution": {
     "iopub.execute_input": "2023-01-22T15:39:40.958048Z",
     "iopub.status.busy": "2023-01-22T15:39:40.957641Z",
     "iopub.status.idle": "2023-01-22T15:39:40.963224Z",
     "shell.execute_reply": "2023-01-22T15:39:40.961875Z"
    },
    "papermill": {
     "duration": 0.019161,
     "end_time": "2023-01-22T15:39:40.966050",
     "exception": false,
     "start_time": "2023-01-22T15:39:40.946889",
     "status": "completed"
    },
    "tags": []
   },
   "outputs": [
    {
     "name": "stdout",
     "output_type": "stream",
     "text": [
      "Help on built-in function log in module math:\n",
      "\n",
      "log(...)\n",
      "    log(x, [base=math.e])\n",
      "    Return the logarithm of x to the given base.\n",
      "    \n",
      "    If the base not specified, returns the natural logarithm (base e) of x.\n",
      "\n"
     ]
    }
   ],
   "source": [
    "help(math.log)"
   ]
  },
  {
   "cell_type": "code",
   "execution_count": 18,
   "id": "64720ec9",
   "metadata": {
    "execution": {
     "iopub.execute_input": "2023-01-22T15:39:40.984070Z",
     "iopub.status.busy": "2023-01-22T15:39:40.983669Z",
     "iopub.status.idle": "2023-01-22T15:39:40.989913Z",
     "shell.execute_reply": "2023-01-22T15:39:40.988710Z"
    },
    "papermill": {
     "duration": 0.018536,
     "end_time": "2023-01-22T15:39:40.992288",
     "exception": false,
     "start_time": "2023-01-22T15:39:40.973752",
     "status": "completed"
    },
    "tags": []
   },
   "outputs": [
    {
     "name": "stdout",
     "output_type": "stream",
     "text": [
      "3.141592653589793 5.0\n"
     ]
    }
   ],
   "source": [
    "from math import *\n",
    "print(pi, log(32,2))"
   ]
  },
  {
   "cell_type": "code",
   "execution_count": 19,
   "id": "5dbcad94",
   "metadata": {
    "execution": {
     "iopub.execute_input": "2023-01-22T15:39:41.010847Z",
     "iopub.status.busy": "2023-01-22T15:39:41.010459Z",
     "iopub.status.idle": "2023-01-22T15:39:41.021759Z",
     "shell.execute_reply": "2023-01-22T15:39:41.020613Z"
    },
    "papermill": {
     "duration": 0.023917,
     "end_time": "2023-01-22T15:39:41.024095",
     "exception": false,
     "start_time": "2023-01-22T15:39:41.000178",
     "status": "completed"
    },
    "tags": []
   },
   "outputs": [
    {
     "data": {
      "text/plain": [
       "array([[1, 2, 3],\n",
       "       [2, 4, 6]])"
      ]
     },
     "execution_count": 19,
     "metadata": {},
     "output_type": "execute_result"
    }
   ],
   "source": [
    "import numpy\n",
    "xlist = [[1,2,3],[2,4,6],]\n",
    "x = numpy.asarray(xlist)\n",
    "x"
   ]
  },
  {
   "cell_type": "code",
   "execution_count": null,
   "id": "4d05d4ff",
   "metadata": {
    "papermill": {
     "duration": 0.007441,
     "end_time": "2023-01-22T15:39:41.039837",
     "exception": false,
     "start_time": "2023-01-22T15:39:41.032396",
     "status": "completed"
    },
    "tags": []
   },
   "outputs": [],
   "source": []
  }
 ],
 "metadata": {
  "kernelspec": {
   "display_name": "Python 3",
   "language": "python",
   "name": "python3"
  },
  "language_info": {
   "codemirror_mode": {
    "name": "ipython",
    "version": 3
   },
   "file_extension": ".py",
   "mimetype": "text/x-python",
   "name": "python",
   "nbconvert_exporter": "python",
   "pygments_lexer": "ipython3",
   "version": "3.7.12"
  },
  "papermill": {
   "default_parameters": {},
   "duration": 11.129654,
   "end_time": "2023-01-22T15:39:41.770070",
   "environment_variables": {},
   "exception": null,
   "input_path": "__notebook__.ipynb",
   "output_path": "__notebook__.ipynb",
   "parameters": {},
   "start_time": "2023-01-22T15:39:30.640416",
   "version": "2.3.4"
  }
 },
 "nbformat": 4,
 "nbformat_minor": 5
}
