{
 "cells": [
  {
   "cell_type": "code",
   "execution_count": 1,
   "id": "a6d45ee5",
   "metadata": {
    "_cell_guid": "b1076dfc-b9ad-4769-8c92-a6c4dae69d19",
    "_uuid": "8f2839f25d086af736a60e9eeb907d3b93b6e0e5",
    "execution": {
     "iopub.execute_input": "2023-01-20T04:29:22.521040Z",
     "iopub.status.busy": "2023-01-20T04:29:22.520437Z",
     "iopub.status.idle": "2023-01-20T04:29:22.535970Z",
     "shell.execute_reply": "2023-01-20T04:29:22.534685Z"
    },
    "papermill": {
     "duration": 0.027346,
     "end_time": "2023-01-20T04:29:22.538931",
     "exception": false,
     "start_time": "2023-01-20T04:29:22.511585",
     "status": "completed"
    },
    "tags": []
   },
   "outputs": [],
   "source": [
    "# This Python 3 environment comes with many helpful analytics libraries installed\n",
    "# It is defined by the kaggle/python Docker image: https://github.com/kaggle/docker-python\n",
    "# For example, here's several helpful packages to load\n",
    "\n",
    "import numpy as np # linear algebra\n",
    "import pandas as pd # data processing, CSV file I/O (e.g. pd.read_csv)\n",
    "\n",
    "# Input data files are available in the read-only \"../input/\" directory\n",
    "# For example, running this (by clicking run or pressing Shift+Enter) will list all files under the input directory\n",
    "\n",
    "import os\n",
    "for dirname, _, filenames in os.walk('/kaggle/input'):\n",
    "    for filename in filenames:\n",
    "        print(os.path.join(dirname, filename))\n",
    "\n",
    "# You can write up to 20GB to the current directory (/kaggle/working/) that gets preserved as output when you create a version using \"Save & Run All\" \n",
    "# You can also write temporary files to /kaggle/temp/, but they won't be saved outside of the current session"
   ]
  },
  {
   "cell_type": "code",
   "execution_count": 2,
   "id": "1c15f052",
   "metadata": {
    "execution": {
     "iopub.execute_input": "2023-01-20T04:29:22.551881Z",
     "iopub.status.busy": "2023-01-20T04:29:22.551470Z",
     "iopub.status.idle": "2023-01-20T04:29:22.558033Z",
     "shell.execute_reply": "2023-01-20T04:29:22.556671Z"
    },
    "papermill": {
     "duration": 0.016177,
     "end_time": "2023-01-20T04:29:22.560793",
     "exception": false,
     "start_time": "2023-01-20T04:29:22.544616",
     "status": "completed"
    },
    "tags": []
   },
   "outputs": [],
   "source": [
    "def least_difference(a, b, c):\n",
    "    \"\"\"Return the smallest difference between any two numbers\n",
    "    among a, b and c.\n",
    "    \n",
    "    >>> least_difference(1, 5, -5)\n",
    "    4\n",
    "    \"\"\"\n",
    "    diff1 = abs(a - b)\n",
    "    diff2 = abs(b - c)\n",
    "    diff3 = abs(a - c)\n",
    "    return min(diff1, diff2, diff3)"
   ]
  },
  {
   "cell_type": "code",
   "execution_count": 3,
   "id": "f42a7f6d",
   "metadata": {
    "execution": {
     "iopub.execute_input": "2023-01-20T04:29:22.572996Z",
     "iopub.status.busy": "2023-01-20T04:29:22.572585Z",
     "iopub.status.idle": "2023-01-20T04:29:22.579182Z",
     "shell.execute_reply": "2023-01-20T04:29:22.577672Z"
    },
    "papermill": {
     "duration": 0.016636,
     "end_time": "2023-01-20T04:29:22.582672",
     "exception": false,
     "start_time": "2023-01-20T04:29:22.566036",
     "status": "completed"
    },
    "tags": []
   },
   "outputs": [
    {
     "name": "stdout",
     "output_type": "stream",
     "text": [
      "Help on function least_difference in module __main__:\n",
      "\n",
      "least_difference(a, b, c)\n",
      "    Return the smallest difference between any two numbers\n",
      "    among a, b and c.\n",
      "    \n",
      "    >>> least_difference(1, 5, -5)\n",
      "    4\n",
      "\n"
     ]
    }
   ],
   "source": [
    "help(least_difference)"
   ]
  },
  {
   "cell_type": "code",
   "execution_count": 4,
   "id": "1f857a58",
   "metadata": {
    "execution": {
     "iopub.execute_input": "2023-01-20T04:29:22.595615Z",
     "iopub.status.busy": "2023-01-20T04:29:22.595161Z",
     "iopub.status.idle": "2023-01-20T04:29:22.604703Z",
     "shell.execute_reply": "2023-01-20T04:29:22.603627Z"
    },
    "papermill": {
     "duration": 0.018644,
     "end_time": "2023-01-20T04:29:22.606971",
     "exception": false,
     "start_time": "2023-01-20T04:29:22.588327",
     "status": "completed"
    },
    "tags": []
   },
   "outputs": [
    {
     "data": {
      "text/plain": [
       "'P! l! u! t! o! '"
      ]
     },
     "execution_count": 4,
     "metadata": {},
     "output_type": "execute_result"
    }
   ],
   "source": [
    "planet = 'Pluto'\n",
    "''.join([char+'! ' for char in planet])"
   ]
  },
  {
   "cell_type": "code",
   "execution_count": 5,
   "id": "7e78bd9c",
   "metadata": {
    "execution": {
     "iopub.execute_input": "2023-01-20T04:29:22.619828Z",
     "iopub.status.busy": "2023-01-20T04:29:22.619434Z",
     "iopub.status.idle": "2023-01-20T04:29:22.625351Z",
     "shell.execute_reply": "2023-01-20T04:29:22.623889Z"
    },
    "papermill": {
     "duration": 0.015418,
     "end_time": "2023-01-20T04:29:22.627874",
     "exception": false,
     "start_time": "2023-01-20T04:29:22.612456",
     "status": "completed"
    },
    "tags": []
   },
   "outputs": [
    {
     "name": "stdout",
     "output_type": "stream",
     "text": [
      "1956 01 31\n"
     ]
    }
   ],
   "source": [
    "datestr = '1956-01-31'\n",
    "year, month, day = datestr.split('-')\n",
    "print(year, month, day)"
   ]
  },
  {
   "cell_type": "markdown",
   "id": "7273ba00",
   "metadata": {
    "papermill": {
     "duration": 0.005338,
     "end_time": "2023-01-20T04:29:22.638690",
     "exception": false,
     "start_time": "2023-01-20T04:29:22.633352",
     "status": "completed"
    },
    "tags": []
   },
   "source": [
    "String formatting"
   ]
  },
  {
   "cell_type": "code",
   "execution_count": 6,
   "id": "6ecd5cf6",
   "metadata": {
    "execution": {
     "iopub.execute_input": "2023-01-20T04:29:22.651634Z",
     "iopub.status.busy": "2023-01-20T04:29:22.651043Z",
     "iopub.status.idle": "2023-01-20T04:29:22.659306Z",
     "shell.execute_reply": "2023-01-20T04:29:22.657859Z"
    },
    "papermill": {
     "duration": 0.018066,
     "end_time": "2023-01-20T04:29:22.662290",
     "exception": false,
     "start_time": "2023-01-20T04:29:22.644224",
     "status": "completed"
    },
    "tags": []
   },
   "outputs": [
    {
     "data": {
      "text/plain": [
       "\"Pluto, you'll always be the 9th planet to me.\""
      ]
     },
     "execution_count": 6,
     "metadata": {},
     "output_type": "execute_result"
    }
   ],
   "source": [
    "planet, position = 'Pluto', 9\n",
    "\"{}, you'll always be the {}th planet to me.\".format(planet, position)"
   ]
  },
  {
   "cell_type": "code",
   "execution_count": 7,
   "id": "ba7c332a",
   "metadata": {
    "execution": {
     "iopub.execute_input": "2023-01-20T04:29:22.676396Z",
     "iopub.status.busy": "2023-01-20T04:29:22.675375Z",
     "iopub.status.idle": "2023-01-20T04:29:22.684195Z",
     "shell.execute_reply": "2023-01-20T04:29:22.682719Z"
    },
    "papermill": {
     "duration": 0.018698,
     "end_time": "2023-01-20T04:29:22.686694",
     "exception": false,
     "start_time": "2023-01-20T04:29:22.667996",
     "status": "completed"
    },
    "tags": []
   },
   "outputs": [
    {
     "data": {
      "text/plain": [
       "\"Pluto weighs about 1.3e+22 kilograms (0.218% of Earth's mass). It is home to 52,910,390 Plutonians.\""
      ]
     },
     "execution_count": 7,
     "metadata": {},
     "output_type": "execute_result"
    }
   ],
   "source": [
    "pluto_mass = 1.303 * 10**22\n",
    "earth_mass = 5.9722 * 10**24\n",
    "population = 52910390\n",
    "#         2 decimal points   3 decimal points, format as percent     separate with commas\n",
    "\"{} weighs about {:.2} kilograms ({:.3%} of Earth's mass). It is home to {:,} Plutonians.\".format(\n",
    "    planet, pluto_mass, pluto_mass / earth_mass, population,\n",
    ")"
   ]
  },
  {
   "cell_type": "code",
   "execution_count": 8,
   "id": "10691959",
   "metadata": {
    "execution": {
     "iopub.execute_input": "2023-01-20T04:29:22.700011Z",
     "iopub.status.busy": "2023-01-20T04:29:22.699608Z",
     "iopub.status.idle": "2023-01-20T04:29:22.705616Z",
     "shell.execute_reply": "2023-01-20T04:29:22.704321Z"
    },
    "papermill": {
     "duration": 0.015679,
     "end_time": "2023-01-20T04:29:22.708151",
     "exception": false,
     "start_time": "2023-01-20T04:29:22.692472",
     "status": "completed"
    },
    "tags": []
   },
   "outputs": [
    {
     "name": "stdout",
     "output_type": "stream",
     "text": [
      "Pluto's a planet.\n",
      "No, it's a dwarf planet.\n",
      "planet!\n",
      "dwarf planet!\n"
     ]
    }
   ],
   "source": [
    "# Referring to format() arguments by index, starting from 0\n",
    "s = \"\"\"Pluto's a {0}.\n",
    "No, it's a {1}.\n",
    "{0}!\n",
    "{1}!\"\"\".format('planet', 'dwarf planet')\n",
    "print(s)"
   ]
  },
  {
   "cell_type": "markdown",
   "id": "26fe0690",
   "metadata": {
    "papermill": {
     "duration": 0.00534,
     "end_time": "2023-01-20T04:29:22.719298",
     "exception": false,
     "start_time": "2023-01-20T04:29:22.713958",
     "status": "completed"
    },
    "tags": []
   },
   "source": [
    "Dictionary comprehensions"
   ]
  },
  {
   "cell_type": "code",
   "execution_count": 9,
   "id": "088506be",
   "metadata": {
    "execution": {
     "iopub.execute_input": "2023-01-20T04:29:22.732718Z",
     "iopub.status.busy": "2023-01-20T04:29:22.732015Z",
     "iopub.status.idle": "2023-01-20T04:29:22.740637Z",
     "shell.execute_reply": "2023-01-20T04:29:22.739365Z"
    },
    "papermill": {
     "duration": 0.018013,
     "end_time": "2023-01-20T04:29:22.743029",
     "exception": false,
     "start_time": "2023-01-20T04:29:22.725016",
     "status": "completed"
    },
    "tags": []
   },
   "outputs": [
    {
     "data": {
      "text/plain": [
       "{'Mercury_initial': 'M',\n",
       " 'Venus_initial': 'V',\n",
       " 'Earth_initial': 'E',\n",
       " 'Mars_initial': 'M',\n",
       " 'Jupiter_initial': 'J',\n",
       " 'Saturn_initial': 'S',\n",
       " 'Uranus_initial': 'U',\n",
       " 'Neptune_initial': 'N'}"
      ]
     },
     "execution_count": 9,
     "metadata": {},
     "output_type": "execute_result"
    }
   ],
   "source": [
    "planets = ['Mercury', 'Venus', 'Earth', 'Mars', 'Jupiter', 'Saturn', 'Uranus', 'Neptune']\n",
    "planet_to_initial = {'{}_initial'.format(planet): planet[0] for planet in planets}\n",
    "planet_to_initial"
   ]
  },
  {
   "cell_type": "code",
   "execution_count": 10,
   "id": "7bb9dd9b",
   "metadata": {
    "execution": {
     "iopub.execute_input": "2023-01-20T04:29:22.756722Z",
     "iopub.status.busy": "2023-01-20T04:29:22.756259Z",
     "iopub.status.idle": "2023-01-20T04:29:22.763563Z",
     "shell.execute_reply": "2023-01-20T04:29:22.762374Z"
    },
    "papermill": {
     "duration": 0.017119,
     "end_time": "2023-01-20T04:29:22.765968",
     "exception": false,
     "start_time": "2023-01-20T04:29:22.748849",
     "status": "completed"
    },
    "tags": []
   },
   "outputs": [
    {
     "data": {
      "text/plain": [
       "'E J M M N S U V'"
      ]
     },
     "execution_count": 10,
     "metadata": {},
     "output_type": "execute_result"
    }
   ],
   "source": [
    "' '.join(sorted(planet_to_initial.values()))"
   ]
  },
  {
   "cell_type": "markdown",
   "id": "dc0b4284",
   "metadata": {
    "papermill": {
     "duration": 0.005673,
     "end_time": "2023-01-20T04:29:22.777504",
     "exception": false,
     "start_time": "2023-01-20T04:29:22.771831",
     "status": "completed"
    },
    "tags": []
   },
   "source": [
    "`dict.items()` is a key,value pair"
   ]
  },
  {
   "cell_type": "code",
   "execution_count": 11,
   "id": "8aef5b69",
   "metadata": {
    "execution": {
     "iopub.execute_input": "2023-01-20T04:29:22.790852Z",
     "iopub.status.busy": "2023-01-20T04:29:22.790424Z",
     "iopub.status.idle": "2023-01-20T04:29:22.800198Z",
     "shell.execute_reply": "2023-01-20T04:29:22.799099Z"
    },
    "papermill": {
     "duration": 0.019492,
     "end_time": "2023-01-20T04:29:22.802739",
     "exception": false,
     "start_time": "2023-01-20T04:29:22.783247",
     "status": "completed"
    },
    "tags": []
   },
   "outputs": [
    {
     "data": {
      "text/plain": [
       "[0]"
      ]
     },
     "execution_count": 11,
     "metadata": {},
     "output_type": "execute_result"
    }
   ],
   "source": [
    "def word_search(doc_list, keyword):\n",
    "    \"\"\"\n",
    "    Takes a list of documents (each document is a string) and a keyword. \n",
    "    Returns list of the index values into the original list for all documents \n",
    "    containing the keyword.\n",
    "\n",
    "    Example:\n",
    "    doc_list = [\"The Learn Python Challenge Casino.\", \"They bought a car\", \"Casinoville\"]\n",
    "    >>> word_search(doc_list, 'casino')\n",
    "    >>> [0]\n",
    "    \"\"\"\n",
    "    # list to hold the indices of matching documents\n",
    "    indices = [] \n",
    "    # Iterate through the indices (i) and elements (doc) of documents\n",
    "    for i, doc in enumerate(doc_list):\n",
    "        # Split the string doc into a list of words (according to whitespace)\n",
    "        tokens = doc.split()\n",
    "        # Make a transformed list where we 'normalize' each word to facilitate matching.\n",
    "        # Periods and commas are removed from the end of each word, and it's set to all lowercase.\n",
    "        normalized = [token.rstrip('.,').lower() for token in tokens]\n",
    "        # Is there a match? If so, update the list of matching indices.\n",
    "        if keyword.lower() in normalized:\n",
    "            indices.append(i)\n",
    "    return indices\n",
    "doc_list = [\"The Learn Python Challenge Casino.\", \"They bought a car\", \"Casinoville\"]\n",
    "word_search(doc_list, 'casino')"
   ]
  },
  {
   "cell_type": "code",
   "execution_count": 12,
   "id": "ee8f9b46",
   "metadata": {
    "execution": {
     "iopub.execute_input": "2023-01-20T04:29:22.817810Z",
     "iopub.status.busy": "2023-01-20T04:29:22.817351Z",
     "iopub.status.idle": "2023-01-20T04:29:22.828654Z",
     "shell.execute_reply": "2023-01-20T04:29:22.827492Z"
    },
    "papermill": {
     "duration": 0.022402,
     "end_time": "2023-01-20T04:29:22.831222",
     "exception": false,
     "start_time": "2023-01-20T04:29:22.808820",
     "status": "completed"
    },
    "tags": []
   },
   "outputs": [
    {
     "data": {
      "text/plain": [
       "{'casino': [0, 1], 'they': [1]}"
      ]
     },
     "execution_count": 12,
     "metadata": {},
     "output_type": "execute_result"
    }
   ],
   "source": [
    "def multi_word_search(doc_list, keywords):\n",
    "    \"\"\"\n",
    "    Takes list of documents (each document is a string) and a list of keywords.  \n",
    "    Returns a dictionary where each key is a keyword, and the value is a list of indices\n",
    "    (from doc_list) of the documents containing that keyword\n",
    "\n",
    "    >>> doc_list = [\"The Learn Python Challenge Casino.\", \"They bought a car and a casino\", \"Casinoville\"]\n",
    "    >>> keywords = ['casino', 'they']\n",
    "    >>> multi_word_search(doc_list, keywords)\n",
    "    {'casino': [0, 1], 'they': [1]}\n",
    "    \"\"\"\n",
    "    # dictionary to hold the indices of matching documents with their respective keyword\n",
    "    indices_dict = {}\n",
    "    # Iterate through the indices (i) and elements (doc) of documents\n",
    "    for i, doc in enumerate(doc_list):\n",
    "        # Split the string doc into a list of words (according to whitespace)\n",
    "        tokens = doc.split()\n",
    "        # Make a transformed list where we 'normalize' each word to facilitate matching.\n",
    "        # Periods and commas are removed from the end of each word, and it's set to all lowercase.\n",
    "        normalized = [token.rstrip('.,').lower() for token in tokens]\n",
    "        # Is there a match? If so, update the list of matching indices.\n",
    "        for keyword in keywords:\n",
    "            if keyword.lower() in normalized:\n",
    "                if keyword in indices_dict.keys():\n",
    "                    indices_dict[keyword].append(i)\n",
    "                else:\n",
    "                    indices_dict[keyword] = [i]\n",
    "    return indices_dict\n",
    "multi_word_search([\"The Learn Python Challenge Casino.\", \"They bought a car and a casino\", \"Casinoville\"], ['casino', 'they'])\n"
   ]
  },
  {
   "cell_type": "markdown",
   "id": "758bd740",
   "metadata": {
    "papermill": {
     "duration": 0.005717,
     "end_time": "2023-01-20T04:29:22.842937",
     "exception": false,
     "start_time": "2023-01-20T04:29:22.837220",
     "status": "completed"
    },
    "tags": []
   },
   "source": [
    "Another solution"
   ]
  },
  {
   "cell_type": "code",
   "execution_count": 13,
   "id": "65496a2a",
   "metadata": {
    "execution": {
     "iopub.execute_input": "2023-01-20T04:29:22.856547Z",
     "iopub.status.busy": "2023-01-20T04:29:22.856112Z",
     "iopub.status.idle": "2023-01-20T04:29:22.862571Z",
     "shell.execute_reply": "2023-01-20T04:29:22.861059Z"
    },
    "papermill": {
     "duration": 0.016203,
     "end_time": "2023-01-20T04:29:22.865061",
     "exception": false,
     "start_time": "2023-01-20T04:29:22.848858",
     "status": "completed"
    },
    "tags": []
   },
   "outputs": [],
   "source": [
    "def multi_word_search(documents, keywords):\n",
    "    \"\"\" Call the word_search() function with each keyword, which already returns an array of indices and make that array the value for the corresponding key.\n",
    "    \"\"\"\n",
    "    keyword_to_indices = {}\n",
    "    for keyword in keywords:\n",
    "        keyword_to_indices[keyword] = word_search(documents, keyword)\n",
    "    return keyword_to_indices"
   ]
  },
  {
   "cell_type": "markdown",
   "id": "3758811c",
   "metadata": {
    "papermill": {
     "duration": 0.005812,
     "end_time": "2023-01-20T04:29:22.876904",
     "exception": false,
     "start_time": "2023-01-20T04:29:22.871092",
     "status": "completed"
    },
    "tags": []
   },
   "source": [
    "With dictionary comprehensions"
   ]
  },
  {
   "cell_type": "code",
   "execution_count": 14,
   "id": "67fc35df",
   "metadata": {
    "execution": {
     "iopub.execute_input": "2023-01-20T04:29:22.891914Z",
     "iopub.status.busy": "2023-01-20T04:29:22.891458Z",
     "iopub.status.idle": "2023-01-20T04:29:22.904519Z",
     "shell.execute_reply": "2023-01-20T04:29:22.903088Z"
    },
    "papermill": {
     "duration": 0.02396,
     "end_time": "2023-01-20T04:29:22.906959",
     "exception": false,
     "start_time": "2023-01-20T04:29:22.882999",
     "status": "completed"
    },
    "tags": []
   },
   "outputs": [
    {
     "data": {
      "text/plain": [
       "{'casino': [0, 1], 'they': [1]}"
      ]
     },
     "execution_count": 14,
     "metadata": {},
     "output_type": "execute_result"
    }
   ],
   "source": [
    "def word_search(doc_list, keyword):\n",
    "    \"\"\"\n",
    "    Takes a list of documents (each document is a string) and a keyword. \n",
    "    Returns list of the index values into the original list for all documents \n",
    "    containing the keyword.\n",
    "\n",
    "    Example:\n",
    "    doc_list = [\"The Learn Python Challenge Casino.\", \"They bought a car\", \"Casinoville\"]\n",
    "    >>> word_search(doc_list, 'casino')\n",
    "    >>> [0]\n",
    "    \"\"\"\n",
    "    # list to hold the indices of matching documents\n",
    "    indices = [] \n",
    "    # Iterate through the indices (i) and elements (doc) of documents\n",
    "    for i, doc in enumerate(doc_list):\n",
    "        # Split the string doc into a list of words (according to whitespace)\n",
    "        tokens = doc.split()\n",
    "        # Make a transformed list where we 'normalize' each word to facilitate matching.\n",
    "        # Periods and commas are removed from the end of each word, and it's set to all lowercase.\n",
    "        normalized = [token.rstrip('.,').lower() for token in tokens]\n",
    "        # Is there a match? If so, update the list of matching indices.\n",
    "        if keyword.lower() in normalized:\n",
    "            indices.append(i)\n",
    "    return indices\n",
    "\n",
    "def multi_word_search(documents, keywords):\n",
    "    \"\"\" Call the word_search() function with each keyword, which already returns an array of indices and make that array the value for the corresponding key.\n",
    "    \"\"\"\n",
    "    return {keyword: word_search(documents, keyword) for keyword in keywords}\n",
    "multi_word_search([\"The Learn Python Challenge Casino.\", \"They bought a car and a casino\", \"Casinoville\"], ['casino', 'they'])"
   ]
  }
 ],
 "metadata": {
  "kernelspec": {
   "display_name": "Python 3",
   "language": "python",
   "name": "python3"
  },
  "language_info": {
   "codemirror_mode": {
    "name": "ipython",
    "version": 3
   },
   "file_extension": ".py",
   "mimetype": "text/x-python",
   "name": "python",
   "nbconvert_exporter": "python",
   "pygments_lexer": "ipython3",
   "version": "3.7.12"
  },
  "papermill": {
   "default_parameters": {},
   "duration": 10.531681,
   "end_time": "2023-01-20T04:29:23.535362",
   "environment_variables": {},
   "exception": null,
   "input_path": "__notebook__.ipynb",
   "output_path": "__notebook__.ipynb",
   "parameters": {},
   "start_time": "2023-01-20T04:29:13.003681",
   "version": "2.3.4"
  }
 },
 "nbformat": 4,
 "nbformat_minor": 5
}
