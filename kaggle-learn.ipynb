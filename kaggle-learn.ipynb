{
 "cells": [
  {
   "cell_type": "code",
   "execution_count": 1,
   "id": "3a4fc627",
   "metadata": {
    "_cell_guid": "b1076dfc-b9ad-4769-8c92-a6c4dae69d19",
    "_uuid": "8f2839f25d086af736a60e9eeb907d3b93b6e0e5",
    "execution": {
     "iopub.execute_input": "2023-01-20T04:23:28.470651Z",
     "iopub.status.busy": "2023-01-20T04:23:28.470000Z",
     "iopub.status.idle": "2023-01-20T04:23:28.484850Z",
     "shell.execute_reply": "2023-01-20T04:23:28.483820Z"
    },
    "papermill": {
     "duration": 0.02547,
     "end_time": "2023-01-20T04:23:28.487508",
     "exception": false,
     "start_time": "2023-01-20T04:23:28.462038",
     "status": "completed"
    },
    "tags": []
   },
   "outputs": [],
   "source": [
    "# This Python 3 environment comes with many helpful analytics libraries installed\n",
    "# It is defined by the kaggle/python Docker image: https://github.com/kaggle/docker-python\n",
    "# For example, here's several helpful packages to load\n",
    "\n",
    "import numpy as np # linear algebra\n",
    "import pandas as pd # data processing, CSV file I/O (e.g. pd.read_csv)\n",
    "\n",
    "# Input data files are available in the read-only \"../input/\" directory\n",
    "# For example, running this (by clicking run or pressing Shift+Enter) will list all files under the input directory\n",
    "\n",
    "import os\n",
    "for dirname, _, filenames in os.walk('/kaggle/input'):\n",
    "    for filename in filenames:\n",
    "        print(os.path.join(dirname, filename))\n",
    "\n",
    "# You can write up to 20GB to the current directory (/kaggle/working/) that gets preserved as output when you create a version using \"Save & Run All\" \n",
    "# You can also write temporary files to /kaggle/temp/, but they won't be saved outside of the current session"
   ]
  },
  {
   "cell_type": "code",
   "execution_count": 2,
   "id": "23ef4f09",
   "metadata": {
    "execution": {
     "iopub.execute_input": "2023-01-20T04:23:28.498352Z",
     "iopub.status.busy": "2023-01-20T04:23:28.497983Z",
     "iopub.status.idle": "2023-01-20T04:23:28.504219Z",
     "shell.execute_reply": "2023-01-20T04:23:28.503117Z"
    },
    "papermill": {
     "duration": 0.014411,
     "end_time": "2023-01-20T04:23:28.506709",
     "exception": false,
     "start_time": "2023-01-20T04:23:28.492298",
     "status": "completed"
    },
    "tags": []
   },
   "outputs": [],
   "source": [
    "def least_difference(a, b, c):\n",
    "    \"\"\"Return the smallest difference between any two numbers\n",
    "    among a, b and c.\n",
    "    \n",
    "    >>> least_difference(1, 5, -5)\n",
    "    4\n",
    "    \"\"\"\n",
    "    diff1 = abs(a - b)\n",
    "    diff2 = abs(b - c)\n",
    "    diff3 = abs(a - c)\n",
    "    return min(diff1, diff2, diff3)"
   ]
  },
  {
   "cell_type": "code",
   "execution_count": 3,
   "id": "53b7d87a",
   "metadata": {
    "execution": {
     "iopub.execute_input": "2023-01-20T04:23:28.518131Z",
     "iopub.status.busy": "2023-01-20T04:23:28.517261Z",
     "iopub.status.idle": "2023-01-20T04:23:28.524130Z",
     "shell.execute_reply": "2023-01-20T04:23:28.522950Z"
    },
    "papermill": {
     "duration": 0.016709,
     "end_time": "2023-01-20T04:23:28.528171",
     "exception": false,
     "start_time": "2023-01-20T04:23:28.511462",
     "status": "completed"
    },
    "tags": []
   },
   "outputs": [
    {
     "name": "stdout",
     "output_type": "stream",
     "text": [
      "Help on function least_difference in module __main__:\n",
      "\n",
      "least_difference(a, b, c)\n",
      "    Return the smallest difference between any two numbers\n",
      "    among a, b and c.\n",
      "    \n",
      "    >>> least_difference(1, 5, -5)\n",
      "    4\n",
      "\n"
     ]
    }
   ],
   "source": [
    "help(least_difference)"
   ]
  },
  {
   "cell_type": "code",
   "execution_count": 4,
   "id": "09f1fe95",
   "metadata": {
    "execution": {
     "iopub.execute_input": "2023-01-20T04:23:28.538894Z",
     "iopub.status.busy": "2023-01-20T04:23:28.538449Z",
     "iopub.status.idle": "2023-01-20T04:23:28.547544Z",
     "shell.execute_reply": "2023-01-20T04:23:28.546698Z"
    },
    "papermill": {
     "duration": 0.016976,
     "end_time": "2023-01-20T04:23:28.549746",
     "exception": false,
     "start_time": "2023-01-20T04:23:28.532770",
     "status": "completed"
    },
    "tags": []
   },
   "outputs": [
    {
     "data": {
      "text/plain": [
       "'P! l! u! t! o! '"
      ]
     },
     "execution_count": 4,
     "metadata": {},
     "output_type": "execute_result"
    }
   ],
   "source": [
    "planet = 'Pluto'\n",
    "''.join([char+'! ' for char in planet])"
   ]
  },
  {
   "cell_type": "code",
   "execution_count": 5,
   "id": "337b07e5",
   "metadata": {
    "execution": {
     "iopub.execute_input": "2023-01-20T04:23:28.562066Z",
     "iopub.status.busy": "2023-01-20T04:23:28.561688Z",
     "iopub.status.idle": "2023-01-20T04:23:28.567359Z",
     "shell.execute_reply": "2023-01-20T04:23:28.566137Z"
    },
    "papermill": {
     "duration": 0.014946,
     "end_time": "2023-01-20T04:23:28.570076",
     "exception": false,
     "start_time": "2023-01-20T04:23:28.555130",
     "status": "completed"
    },
    "tags": []
   },
   "outputs": [
    {
     "name": "stdout",
     "output_type": "stream",
     "text": [
      "1956 01 31\n"
     ]
    }
   ],
   "source": [
    "datestr = '1956-01-31'\n",
    "year, month, day = datestr.split('-')\n",
    "print(year, month, day)"
   ]
  },
  {
   "cell_type": "markdown",
   "id": "e020abdf",
   "metadata": {
    "papermill": {
     "duration": 0.004669,
     "end_time": "2023-01-20T04:23:28.579607",
     "exception": false,
     "start_time": "2023-01-20T04:23:28.574938",
     "status": "completed"
    },
    "tags": []
   },
   "source": [
    "String formatting"
   ]
  },
  {
   "cell_type": "code",
   "execution_count": 6,
   "id": "38b5dfcd",
   "metadata": {
    "execution": {
     "iopub.execute_input": "2023-01-20T04:23:28.591382Z",
     "iopub.status.busy": "2023-01-20T04:23:28.590923Z",
     "iopub.status.idle": "2023-01-20T04:23:28.598453Z",
     "shell.execute_reply": "2023-01-20T04:23:28.597294Z"
    },
    "papermill": {
     "duration": 0.016466,
     "end_time": "2023-01-20T04:23:28.601016",
     "exception": false,
     "start_time": "2023-01-20T04:23:28.584550",
     "status": "completed"
    },
    "tags": []
   },
   "outputs": [
    {
     "data": {
      "text/plain": [
       "\"Pluto, you'll always be the 9th planet to me.\""
      ]
     },
     "execution_count": 6,
     "metadata": {},
     "output_type": "execute_result"
    }
   ],
   "source": [
    "planet, position = 'Pluto', 9\n",
    "\"{}, you'll always be the {}th planet to me.\".format(planet, position)"
   ]
  },
  {
   "cell_type": "code",
   "execution_count": 7,
   "id": "5c23c931",
   "metadata": {
    "execution": {
     "iopub.execute_input": "2023-01-20T04:23:28.612985Z",
     "iopub.status.busy": "2023-01-20T04:23:28.612533Z",
     "iopub.status.idle": "2023-01-20T04:23:28.620702Z",
     "shell.execute_reply": "2023-01-20T04:23:28.619554Z"
    },
    "papermill": {
     "duration": 0.016992,
     "end_time": "2023-01-20T04:23:28.623000",
     "exception": false,
     "start_time": "2023-01-20T04:23:28.606008",
     "status": "completed"
    },
    "tags": []
   },
   "outputs": [
    {
     "data": {
      "text/plain": [
       "\"Pluto weighs about 1.3e+22 kilograms (0.218% of Earth's mass). It is home to 52,910,390 Plutonians.\""
      ]
     },
     "execution_count": 7,
     "metadata": {},
     "output_type": "execute_result"
    }
   ],
   "source": [
    "pluto_mass = 1.303 * 10**22\n",
    "earth_mass = 5.9722 * 10**24\n",
    "population = 52910390\n",
    "#         2 decimal points   3 decimal points, format as percent     separate with commas\n",
    "\"{} weighs about {:.2} kilograms ({:.3%} of Earth's mass). It is home to {:,} Plutonians.\".format(\n",
    "    planet, pluto_mass, pluto_mass / earth_mass, population,\n",
    ")"
   ]
  },
  {
   "cell_type": "code",
   "execution_count": 8,
   "id": "49a9cb39",
   "metadata": {
    "execution": {
     "iopub.execute_input": "2023-01-20T04:23:28.634980Z",
     "iopub.status.busy": "2023-01-20T04:23:28.634601Z",
     "iopub.status.idle": "2023-01-20T04:23:28.640572Z",
     "shell.execute_reply": "2023-01-20T04:23:28.639230Z"
    },
    "papermill": {
     "duration": 0.01488,
     "end_time": "2023-01-20T04:23:28.642962",
     "exception": false,
     "start_time": "2023-01-20T04:23:28.628082",
     "status": "completed"
    },
    "tags": []
   },
   "outputs": [
    {
     "name": "stdout",
     "output_type": "stream",
     "text": [
      "Pluto's a planet.\n",
      "No, it's a dwarf planet.\n",
      "planet!\n",
      "dwarf planet!\n"
     ]
    }
   ],
   "source": [
    "# Referring to format() arguments by index, starting from 0\n",
    "s = \"\"\"Pluto's a {0}.\n",
    "No, it's a {1}.\n",
    "{0}!\n",
    "{1}!\"\"\".format('planet', 'dwarf planet')\n",
    "print(s)"
   ]
  },
  {
   "cell_type": "markdown",
   "id": "7f093430",
   "metadata": {
    "papermill": {
     "duration": 0.005513,
     "end_time": "2023-01-20T04:23:28.653668",
     "exception": false,
     "start_time": "2023-01-20T04:23:28.648155",
     "status": "completed"
    },
    "tags": []
   },
   "source": [
    "Dictionary comprehensions"
   ]
  },
  {
   "cell_type": "code",
   "execution_count": 9,
   "id": "c0e7ad5b",
   "metadata": {
    "execution": {
     "iopub.execute_input": "2023-01-20T04:23:28.666023Z",
     "iopub.status.busy": "2023-01-20T04:23:28.665583Z",
     "iopub.status.idle": "2023-01-20T04:23:28.674127Z",
     "shell.execute_reply": "2023-01-20T04:23:28.672938Z"
    },
    "papermill": {
     "duration": 0.018084,
     "end_time": "2023-01-20T04:23:28.676986",
     "exception": false,
     "start_time": "2023-01-20T04:23:28.658902",
     "status": "completed"
    },
    "tags": []
   },
   "outputs": [
    {
     "data": {
      "text/plain": [
       "{'Mercury_initial': 'M',\n",
       " 'Venus_initial': 'V',\n",
       " 'Earth_initial': 'E',\n",
       " 'Mars_initial': 'M',\n",
       " 'Jupiter_initial': 'J',\n",
       " 'Saturn_initial': 'S',\n",
       " 'Uranus_initial': 'U',\n",
       " 'Neptune_initial': 'N'}"
      ]
     },
     "execution_count": 9,
     "metadata": {},
     "output_type": "execute_result"
    }
   ],
   "source": [
    "planets = ['Mercury', 'Venus', 'Earth', 'Mars', 'Jupiter', 'Saturn', 'Uranus', 'Neptune']\n",
    "planet_to_initial = {'{}_initial'.format(planet): planet[0] for planet in planets}\n",
    "planet_to_initial"
   ]
  },
  {
   "cell_type": "code",
   "execution_count": 10,
   "id": "d71ec56e",
   "metadata": {
    "execution": {
     "iopub.execute_input": "2023-01-20T04:23:28.691116Z",
     "iopub.status.busy": "2023-01-20T04:23:28.690722Z",
     "iopub.status.idle": "2023-01-20T04:23:28.697595Z",
     "shell.execute_reply": "2023-01-20T04:23:28.696439Z"
    },
    "papermill": {
     "duration": 0.01635,
     "end_time": "2023-01-20T04:23:28.699886",
     "exception": false,
     "start_time": "2023-01-20T04:23:28.683536",
     "status": "completed"
    },
    "tags": []
   },
   "outputs": [
    {
     "data": {
      "text/plain": [
       "'E J M M N S U V'"
      ]
     },
     "execution_count": 10,
     "metadata": {},
     "output_type": "execute_result"
    }
   ],
   "source": [
    "' '.join(sorted(planet_to_initial.values()))"
   ]
  },
  {
   "cell_type": "markdown",
   "id": "7c6c91fc",
   "metadata": {
    "papermill": {
     "duration": 0.005681,
     "end_time": "2023-01-20T04:23:28.711653",
     "exception": false,
     "start_time": "2023-01-20T04:23:28.705972",
     "status": "completed"
    },
    "tags": []
   },
   "source": [
    "`dict.items()` is a key,value pair"
   ]
  },
  {
   "cell_type": "code",
   "execution_count": 11,
   "id": "814d18f9",
   "metadata": {
    "execution": {
     "iopub.execute_input": "2023-01-20T04:23:28.725175Z",
     "iopub.status.busy": "2023-01-20T04:23:28.724500Z",
     "iopub.status.idle": "2023-01-20T04:23:28.736265Z",
     "shell.execute_reply": "2023-01-20T04:23:28.734809Z"
    },
    "papermill": {
     "duration": 0.021757,
     "end_time": "2023-01-20T04:23:28.738831",
     "exception": false,
     "start_time": "2023-01-20T04:23:28.717074",
     "status": "completed"
    },
    "tags": []
   },
   "outputs": [
    {
     "data": {
      "text/plain": [
       "[0]"
      ]
     },
     "execution_count": 11,
     "metadata": {},
     "output_type": "execute_result"
    }
   ],
   "source": [
    "def word_search(doc_list, keyword):\n",
    "    \"\"\"\n",
    "    Takes a list of documents (each document is a string) and a keyword. \n",
    "    Returns list of the index values into the original list for all documents \n",
    "    containing the keyword.\n",
    "\n",
    "    Example:\n",
    "    doc_list = [\"The Learn Python Challenge Casino.\", \"They bought a car\", \"Casinoville\"]\n",
    "    >>> word_search(doc_list, 'casino')\n",
    "    >>> [0]\n",
    "    \"\"\"\n",
    "    # list to hold the indices of matching documents\n",
    "    indices = [] \n",
    "    # Iterate through the indices (i) and elements (doc) of documents\n",
    "    for i, doc in enumerate(doc_list):\n",
    "        # Split the string doc into a list of words (according to whitespace)\n",
    "        tokens = doc.split()\n",
    "        # Make a transformed list where we 'normalize' each word to facilitate matching.\n",
    "        # Periods and commas are removed from the end of each word, and it's set to all lowercase.\n",
    "        normalized = [token.rstrip('.,').lower() for token in tokens]\n",
    "        # Is there a match? If so, update the list of matching indices.\n",
    "        if keyword.lower() in normalized:\n",
    "            indices.append(i)\n",
    "    return indices\n",
    "doc_list = [\"The Learn Python Challenge Casino.\", \"They bought a car\", \"Casinoville\"]\n",
    "word_search(doc_list, 'casino')"
   ]
  },
  {
   "cell_type": "code",
   "execution_count": 12,
   "id": "35c23aac",
   "metadata": {
    "execution": {
     "iopub.execute_input": "2023-01-20T04:23:28.753050Z",
     "iopub.status.busy": "2023-01-20T04:23:28.751649Z",
     "iopub.status.idle": "2023-01-20T04:23:28.763208Z",
     "shell.execute_reply": "2023-01-20T04:23:28.762440Z"
    },
    "papermill": {
     "duration": 0.020574,
     "end_time": "2023-01-20T04:23:28.765221",
     "exception": false,
     "start_time": "2023-01-20T04:23:28.744647",
     "status": "completed"
    },
    "tags": []
   },
   "outputs": [
    {
     "data": {
      "text/plain": [
       "{'casino': [0, 1], 'they': [1]}"
      ]
     },
     "execution_count": 12,
     "metadata": {},
     "output_type": "execute_result"
    }
   ],
   "source": [
    "def multi_word_search(doc_list, keywords):\n",
    "    \"\"\"\n",
    "    Takes list of documents (each document is a string) and a list of keywords.  \n",
    "    Returns a dictionary where each key is a keyword, and the value is a list of indices\n",
    "    (from doc_list) of the documents containing that keyword\n",
    "\n",
    "    >>> doc_list = [\"The Learn Python Challenge Casino.\", \"They bought a car and a casino\", \"Casinoville\"]\n",
    "    >>> keywords = ['casino', 'they']\n",
    "    >>> multi_word_search(doc_list, keywords)\n",
    "    {'casino': [0, 1], 'they': [1]}\n",
    "    \"\"\"\n",
    "    # dictionary to hold the indices of matching documents with their respective keyword\n",
    "    indices_dict = {}\n",
    "    # Iterate through the indices (i) and elements (doc) of documents\n",
    "    for i, doc in enumerate(doc_list):\n",
    "        # Split the string doc into a list of words (according to whitespace)\n",
    "        tokens = doc.split()\n",
    "        # Make a transformed list where we 'normalize' each word to facilitate matching.\n",
    "        # Periods and commas are removed from the end of each word, and it's set to all lowercase.\n",
    "        normalized = [token.rstrip('.,').lower() for token in tokens]\n",
    "        # Is there a match? If so, update the list of matching indices.\n",
    "        for keyword in keywords:\n",
    "            if keyword.lower() in normalized:\n",
    "                if keyword in indices_dict.keys():\n",
    "                    indices_dict[keyword].append(i)\n",
    "                else:\n",
    "                    indices_dict[keyword] = [i]\n",
    "    return indices_dict\n",
    "multi_word_search([\"The Learn Python Challenge Casino.\", \"They bought a car and a casino\", \"Casinoville\"], ['casino', 'they'])\n"
   ]
  },
  {
   "cell_type": "markdown",
   "id": "11e18940",
   "metadata": {
    "papermill": {
     "duration": 0.005101,
     "end_time": "2023-01-20T04:23:28.776855",
     "exception": false,
     "start_time": "2023-01-20T04:23:28.771754",
     "status": "completed"
    },
    "tags": []
   },
   "source": [
    "Another solution"
   ]
  },
  {
   "cell_type": "code",
   "execution_count": 13,
   "id": "6423315e",
   "metadata": {
    "execution": {
     "iopub.execute_input": "2023-01-20T04:23:28.790195Z",
     "iopub.status.busy": "2023-01-20T04:23:28.789061Z",
     "iopub.status.idle": "2023-01-20T04:23:28.794968Z",
     "shell.execute_reply": "2023-01-20T04:23:28.793818Z"
    },
    "papermill": {
     "duration": 0.015359,
     "end_time": "2023-01-20T04:23:28.797683",
     "exception": false,
     "start_time": "2023-01-20T04:23:28.782324",
     "status": "completed"
    },
    "tags": []
   },
   "outputs": [],
   "source": [
    "def multi_word_search(documents, keywords):\n",
    "    \"\"\" Call the word_search() function with each keyword, which already returns an array of indices and make that array the value for the corresponding key.\n",
    "    \"\"\"\n",
    "    keyword_to_indices = {}\n",
    "    for keyword in keywords:\n",
    "        keyword_to_indices[keyword] = word_search(documents, keyword)\n",
    "    return keyword_to_indices"
   ]
  }
 ],
 "metadata": {
  "kernelspec": {
   "display_name": "Python 3",
   "language": "python",
   "name": "python3"
  },
  "language_info": {
   "codemirror_mode": {
    "name": "ipython",
    "version": 3
   },
   "file_extension": ".py",
   "mimetype": "text/x-python",
   "name": "python",
   "nbconvert_exporter": "python",
   "pygments_lexer": "ipython3",
   "version": "3.7.12"
  },
  "papermill": {
   "default_parameters": {},
   "duration": 11.873354,
   "end_time": "2023-01-20T04:23:29.525310",
   "environment_variables": {},
   "exception": null,
   "input_path": "__notebook__.ipynb",
   "output_path": "__notebook__.ipynb",
   "parameters": {},
   "start_time": "2023-01-20T04:23:17.651956",
   "version": "2.3.4"
  }
 },
 "nbformat": 4,
 "nbformat_minor": 5
}
