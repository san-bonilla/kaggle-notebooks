{
 "cells": [
  {
   "cell_type": "code",
   "execution_count": 1,
   "id": "7b6ef1e2",
   "metadata": {
    "_cell_guid": "b1076dfc-b9ad-4769-8c92-a6c4dae69d19",
    "_uuid": "8f2839f25d086af736a60e9eeb907d3b93b6e0e5",
    "execution": {
     "iopub.execute_input": "2022-11-02T18:24:26.784083Z",
     "iopub.status.busy": "2022-11-02T18:24:26.783582Z",
     "iopub.status.idle": "2022-11-02T18:24:26.796485Z",
     "shell.execute_reply": "2022-11-02T18:24:26.795417Z"
    },
    "papermill": {
     "duration": 0.019916,
     "end_time": "2022-11-02T18:24:26.799015",
     "exception": false,
     "start_time": "2022-11-02T18:24:26.779099",
     "status": "completed"
    },
    "tags": []
   },
   "outputs": [],
   "source": [
    "# This Python 3 environment comes with many helpful analytics libraries installed\n",
    "# It is defined by the kaggle/python Docker image: https://github.com/kaggle/docker-python\n",
    "# For example, here's several helpful packages to load\n",
    "\n",
    "import numpy as np # linear algebra\n",
    "import pandas as pd # data processing, CSV file I/O (e.g. pd.read_csv)\n",
    "\n",
    "# Input data files are available in the read-only \"../input/\" directory\n",
    "# For example, running this (by clicking run or pressing Shift+Enter) will list all files under the input directory\n",
    "\n",
    "import os\n",
    "for dirname, _, filenames in os.walk('/kaggle/input'):\n",
    "    for filename in filenames:\n",
    "        print(os.path.join(dirname, filename))\n",
    "\n",
    "# You can write up to 20GB to the current directory (/kaggle/working/) that gets preserved as output when you create a version using \"Save & Run All\" \n",
    "# You can also write temporary files to /kaggle/temp/, but they won't be saved outside of the current session"
   ]
  },
  {
   "cell_type": "markdown",
   "id": "3e7ad682",
   "metadata": {
    "papermill": {
     "duration": 0.001736,
     "end_time": "2022-11-02T18:24:26.803037",
     "exception": false,
     "start_time": "2022-11-02T18:24:26.801301",
     "status": "completed"
    },
    "tags": []
   },
   "source": [
    "# Pivot tables from row and column data\n",
    "\n",
    "Filter, sort, subtotal and analyze data.\n",
    "\n",
    "## Organizing\n",
    "Add rows and columns to the pivot table  \n",
    "Add values to the pivot table\n",
    "\n",
    "## How pivot tables work\n",
    "Presents the information in the entire dataset in different ways.  \n",
    "All the selectable rows will show the unique values of that column.  \n",
    "All the selectable values will show the corresponding values after a calculation."
   ]
  },
  {
   "cell_type": "markdown",
   "id": "cf0a3fb2",
   "metadata": {
    "papermill": {
     "duration": 0.001704,
     "end_time": "2022-11-02T18:24:26.806655",
     "exception": false,
     "start_time": "2022-11-02T18:24:26.804951",
     "status": "completed"
    },
    "tags": []
   },
   "source": [
    "# Filters in pivot tables\n",
    "Only show specific values.\n",
    "\n",
    "# Changing the calculation of values\n",
    "Counting, ranking, mathematical, statistical calculations.\n",
    "\n",
    "# Calculated fields\n",
    "Calculate a new field from the existing data"
   ]
  },
  {
   "cell_type": "markdown",
   "id": "f774e139",
   "metadata": {
    "papermill": {
     "duration": 0.001672,
     "end_time": "2022-11-02T18:24:26.810297",
     "exception": false,
     "start_time": "2022-11-02T18:24:26.808625",
     "status": "completed"
    },
    "tags": []
   },
   "source": [
    "## Show data as percentage\n",
    "## Drilling down\n",
    "Double click on an entry to expand and see the original dataset of that entry\n",
    "## Grouping\n",
    "How many entries fall in a range."
   ]
  },
  {
   "cell_type": "markdown",
   "id": "e85c4ede",
   "metadata": {
    "papermill": {
     "duration": 0.001633,
     "end_time": "2022-11-02T18:24:26.813857",
     "exception": false,
     "start_time": "2022-11-02T18:24:26.812224",
     "status": "completed"
    },
    "tags": []
   },
   "source": [
    "## Adding or changing data\n",
    "Changes in the original dataset will be reflected in the pivot table\n",
    "Change the source of selected fields in the pivot table to include new entries"
   ]
  },
  {
   "cell_type": "markdown",
   "id": "2d05c009",
   "metadata": {
    "papermill": {
     "duration": 0.001661,
     "end_time": "2022-11-02T18:24:26.817345",
     "exception": false,
     "start_time": "2022-11-02T18:24:26.815684",
     "status": "completed"
    },
    "tags": []
   },
   "source": [
    "# Troubleshooting and errors\n",
    "## Missing data\n",
    "=COUNTA(range) to identify missing data  \n",
    "To find the missing value select the header and ctrl + down arrow\n",
    "## Field labels not matching\n",
    "ctrl + F to find misspelled words\n",
    "## Different formats\n",
    "Change cell formats in original dataset"
   ]
  },
  {
   "cell_type": "markdown",
   "id": "0c30c5b3",
   "metadata": {
    "papermill": {
     "duration": 0.001571,
     "end_time": "2022-11-02T18:24:26.820764",
     "exception": false,
     "start_time": "2022-11-02T18:24:26.819193",
     "status": "completed"
    },
    "tags": []
   },
   "source": [
    "# Best practices\n",
    "Use descriptive fields for rows and columns\n",
    "Use measurements for values and where you will apply calculations\n",
    "## When not to use pivot tables\n",
    "On small datasets use Sort, Subtotal, & Filter\n",
    "### Strict formatting\n",
    "You will not have absolute control of the layout in pivot tables."
   ]
  },
  {
   "cell_type": "code",
   "execution_count": null,
   "id": "daeb7c76",
   "metadata": {
    "papermill": {
     "duration": 0.00157,
     "end_time": "2022-11-02T18:24:26.824082",
     "exception": false,
     "start_time": "2022-11-02T18:24:26.822512",
     "status": "completed"
    },
    "tags": []
   },
   "outputs": [],
   "source": []
  }
 ],
 "metadata": {
  "kernelspec": {
   "display_name": "Python 3",
   "language": "python",
   "name": "python3"
  },
  "language_info": {
   "codemirror_mode": {
    "name": "ipython",
    "version": 3
   },
   "file_extension": ".py",
   "mimetype": "text/x-python",
   "name": "python",
   "nbconvert_exporter": "python",
   "pygments_lexer": "ipython3",
   "version": "3.7.12"
  },
  "papermill": {
   "default_parameters": {},
   "duration": 8.212363,
   "end_time": "2022-11-02T18:24:27.447463",
   "environment_variables": {},
   "exception": null,
   "input_path": "__notebook__.ipynb",
   "output_path": "__notebook__.ipynb",
   "parameters": {},
   "start_time": "2022-11-02T18:24:19.235100",
   "version": "2.3.4"
  }
 },
 "nbformat": 4,
 "nbformat_minor": 5
}
