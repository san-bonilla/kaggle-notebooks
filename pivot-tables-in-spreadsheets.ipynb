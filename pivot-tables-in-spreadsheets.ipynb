{
 "cells": [
  {
   "cell_type": "code",
   "execution_count": 1,
   "id": "678087cc",
   "metadata": {
    "_cell_guid": "b1076dfc-b9ad-4769-8c92-a6c4dae69d19",
    "_uuid": "8f2839f25d086af736a60e9eeb907d3b93b6e0e5",
    "execution": {
     "iopub.execute_input": "2022-11-02T17:33:18.981524Z",
     "iopub.status.busy": "2022-11-02T17:33:18.980896Z",
     "iopub.status.idle": "2022-11-02T17:33:18.994672Z",
     "shell.execute_reply": "2022-11-02T17:33:18.993666Z"
    },
    "papermill": {
     "duration": 0.021259,
     "end_time": "2022-11-02T17:33:18.997140",
     "exception": false,
     "start_time": "2022-11-02T17:33:18.975881",
     "status": "completed"
    },
    "tags": []
   },
   "outputs": [],
   "source": [
    "# This Python 3 environment comes with many helpful analytics libraries installed\n",
    "# It is defined by the kaggle/python Docker image: https://github.com/kaggle/docker-python\n",
    "# For example, here's several helpful packages to load\n",
    "\n",
    "import numpy as np # linear algebra\n",
    "import pandas as pd # data processing, CSV file I/O (e.g. pd.read_csv)\n",
    "\n",
    "# Input data files are available in the read-only \"../input/\" directory\n",
    "# For example, running this (by clicking run or pressing Shift+Enter) will list all files under the input directory\n",
    "\n",
    "import os\n",
    "for dirname, _, filenames in os.walk('/kaggle/input'):\n",
    "    for filename in filenames:\n",
    "        print(os.path.join(dirname, filename))\n",
    "\n",
    "# You can write up to 20GB to the current directory (/kaggle/working/) that gets preserved as output when you create a version using \"Save & Run All\" \n",
    "# You can also write temporary files to /kaggle/temp/, but they won't be saved outside of the current session"
   ]
  },
  {
   "cell_type": "markdown",
   "id": "ee93d1e6",
   "metadata": {
    "papermill": {
     "duration": 0.001524,
     "end_time": "2022-11-02T17:33:19.000914",
     "exception": false,
     "start_time": "2022-11-02T17:33:18.999390",
     "status": "completed"
    },
    "tags": []
   },
   "source": [
    "# Pivot tables from row and column data\n",
    "\n",
    "Filter, sort, subtotal and analyze data.\n",
    "\n",
    "## Organizing\n",
    "Add rows and columns to the pivot table  \n",
    "Add values to the pivot table\n",
    "\n",
    "## How pivot tables work\n",
    "Presents the information in the entire dataset in different ways.  \n",
    "All the selectable rows will show the unique values of that column.  \n",
    "All the selectable values will show the corresponding values after a calculation."
   ]
  },
  {
   "cell_type": "markdown",
   "id": "c11cd8a6",
   "metadata": {
    "papermill": {
     "duration": 0.001427,
     "end_time": "2022-11-02T17:33:19.004076",
     "exception": false,
     "start_time": "2022-11-02T17:33:19.002649",
     "status": "completed"
    },
    "tags": []
   },
   "source": [
    "# Filters in pivot tables\n",
    "Only show specific values.\n",
    "\n",
    "# Changing the calculation of values\n",
    "Counting, ranking, mathematical, statistical calculations.\n",
    "\n",
    "# Calculated fields\n",
    "Calculate a new field from the existing data"
   ]
  },
  {
   "cell_type": "code",
   "execution_count": null,
   "id": "6e402474",
   "metadata": {
    "papermill": {
     "duration": 0.0014,
     "end_time": "2022-11-02T17:33:19.007090",
     "exception": false,
     "start_time": "2022-11-02T17:33:19.005690",
     "status": "completed"
    },
    "tags": []
   },
   "outputs": [],
   "source": []
  }
 ],
 "metadata": {
  "kernelspec": {
   "display_name": "Python 3",
   "language": "python",
   "name": "python3"
  },
  "language_info": {
   "codemirror_mode": {
    "name": "ipython",
    "version": 3
   },
   "file_extension": ".py",
   "mimetype": "text/x-python",
   "name": "python",
   "nbconvert_exporter": "python",
   "pygments_lexer": "ipython3",
   "version": "3.7.12"
  },
  "papermill": {
   "default_parameters": {},
   "duration": 8.830121,
   "end_time": "2022-11-02T17:33:19.630807",
   "environment_variables": {},
   "exception": null,
   "input_path": "__notebook__.ipynb",
   "output_path": "__notebook__.ipynb",
   "parameters": {},
   "start_time": "2022-11-02T17:33:10.800686",
   "version": "2.3.4"
  }
 },
 "nbformat": 4,
 "nbformat_minor": 5
}
